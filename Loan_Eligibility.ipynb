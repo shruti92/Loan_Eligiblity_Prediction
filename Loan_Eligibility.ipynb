{
 "cells": [
  {
   "cell_type": "markdown",
   "id": "8e286e26",
   "metadata": {},
   "source": [
    "# Problem Statement: \n",
    "\n",
    "A Company wants to automate the loan eligibility process based on customer details \n",
    "provided while filling online application form. The details filled by the customer \n",
    "are Gender, Marital Status, Education, Number of Dependents, Income of self and co applicant, \n",
    "Required Loan Amount, Required Loan Term, Credit History and others. The requirements are as follows:\n",
    "\n",
    "1.)Check eligibility of the Customer given the inputs described above.(Classification)\n",
    "\n",
    "2.)Identify customer segments from given data and categorize customer into one of the segments.(Clustering)\n",
    "\n",
    "3.)If customer is not eligible for the input required amount and duration:\n",
    "    \n",
    "    a.)what can be amount for the given duration.(Regression)\n",
    "    \n",
    "    b.)if duration is less than equal to 20 years, is customer eligible for required amount for some longer duration? What is that duration?(Regression)"
   ]
  },
  {
   "cell_type": "markdown",
   "id": "2f89cf52",
   "metadata": {},
   "source": [
    "# Import Libraries"
   ]
  },
  {
   "cell_type": "code",
   "execution_count": 1,
   "id": "e76201bf",
   "metadata": {},
   "outputs": [],
   "source": [
    "import pandas as pd\n",
    "import numpy as np\n",
    "\n",
    "import seaborn as sns\n",
    "import matplotlib.pyplot as plt\n",
    "\n",
    "import warnings\n",
    "warnings.filterwarnings('ignore')"
   ]
  },
  {
   "cell_type": "markdown",
   "id": "4962fb11",
   "metadata": {},
   "source": [
    "# Load the data"
   ]
  },
  {
   "cell_type": "code",
   "execution_count": 2,
   "id": "e7f352c8",
   "metadata": {},
   "outputs": [],
   "source": [
    "train_df=pd.read_csv(\"training_set.csv\")\n",
    "test_df=pd.read_csv(\"testing_set.csv\")"
   ]
  },
  {
   "cell_type": "code",
   "execution_count": 3,
   "id": "06c9f616",
   "metadata": {},
   "outputs": [],
   "source": [
    "train=train_df\n",
    "test=test_df"
   ]
  },
  {
   "cell_type": "code",
   "execution_count": 4,
   "id": "2803e972",
   "metadata": {},
   "outputs": [
    {
     "data": {
      "text/html": [
       "<div>\n",
       "<style scoped>\n",
       "    .dataframe tbody tr th:only-of-type {\n",
       "        vertical-align: middle;\n",
       "    }\n",
       "\n",
       "    .dataframe tbody tr th {\n",
       "        vertical-align: top;\n",
       "    }\n",
       "\n",
       "    .dataframe thead th {\n",
       "        text-align: right;\n",
       "    }\n",
       "</style>\n",
       "<table border=\"1\" class=\"dataframe\">\n",
       "  <thead>\n",
       "    <tr style=\"text-align: right;\">\n",
       "      <th></th>\n",
       "      <th>Loan_ID</th>\n",
       "      <th>Gender</th>\n",
       "      <th>Married</th>\n",
       "      <th>Dependents</th>\n",
       "      <th>Education</th>\n",
       "      <th>Self_Employed</th>\n",
       "      <th>ApplicantIncome</th>\n",
       "      <th>CoapplicantIncome</th>\n",
       "      <th>LoanAmount</th>\n",
       "      <th>Loan_Amount_Term</th>\n",
       "      <th>Credit_History</th>\n",
       "      <th>Property_Area</th>\n",
       "      <th>Loan_Status</th>\n",
       "    </tr>\n",
       "  </thead>\n",
       "  <tbody>\n",
       "    <tr>\n",
       "      <th>0</th>\n",
       "      <td>LP001002</td>\n",
       "      <td>Male</td>\n",
       "      <td>No</td>\n",
       "      <td>0</td>\n",
       "      <td>Graduate</td>\n",
       "      <td>No</td>\n",
       "      <td>5849.0</td>\n",
       "      <td>0.0</td>\n",
       "      <td>NaN</td>\n",
       "      <td>360.0</td>\n",
       "      <td>1.0</td>\n",
       "      <td>Urban</td>\n",
       "      <td>Y</td>\n",
       "    </tr>\n",
       "    <tr>\n",
       "      <th>1</th>\n",
       "      <td>LP001003</td>\n",
       "      <td>Male</td>\n",
       "      <td>Yes</td>\n",
       "      <td>1</td>\n",
       "      <td>Graduate</td>\n",
       "      <td>No</td>\n",
       "      <td>NaN</td>\n",
       "      <td>1508.0</td>\n",
       "      <td>128.0</td>\n",
       "      <td>360.0</td>\n",
       "      <td>1.0</td>\n",
       "      <td>Rural</td>\n",
       "      <td>N</td>\n",
       "    </tr>\n",
       "    <tr>\n",
       "      <th>2</th>\n",
       "      <td>LP001005</td>\n",
       "      <td>Male</td>\n",
       "      <td>Yes</td>\n",
       "      <td>0</td>\n",
       "      <td>Graduate</td>\n",
       "      <td>Yes</td>\n",
       "      <td>3000.0</td>\n",
       "      <td>0.0</td>\n",
       "      <td>66.0</td>\n",
       "      <td>360.0</td>\n",
       "      <td>1.0</td>\n",
       "      <td>Urban</td>\n",
       "      <td>Y</td>\n",
       "    </tr>\n",
       "    <tr>\n",
       "      <th>3</th>\n",
       "      <td>LP001006</td>\n",
       "      <td>Male</td>\n",
       "      <td>Yes</td>\n",
       "      <td>0</td>\n",
       "      <td>Not Graduate</td>\n",
       "      <td>No</td>\n",
       "      <td>2583.0</td>\n",
       "      <td>2358.0</td>\n",
       "      <td>120.0</td>\n",
       "      <td>360.0</td>\n",
       "      <td>1.0</td>\n",
       "      <td>Urban</td>\n",
       "      <td>Y</td>\n",
       "    </tr>\n",
       "    <tr>\n",
       "      <th>4</th>\n",
       "      <td>LP001008</td>\n",
       "      <td>Male</td>\n",
       "      <td>No</td>\n",
       "      <td>0</td>\n",
       "      <td>Graduate</td>\n",
       "      <td>No</td>\n",
       "      <td>6000.0</td>\n",
       "      <td>0.0</td>\n",
       "      <td>141.0</td>\n",
       "      <td>360.0</td>\n",
       "      <td>1.0</td>\n",
       "      <td>Urban</td>\n",
       "      <td>Y</td>\n",
       "    </tr>\n",
       "  </tbody>\n",
       "</table>\n",
       "</div>"
      ],
      "text/plain": [
       "    Loan_ID Gender Married Dependents     Education Self_Employed  \\\n",
       "0  LP001002   Male      No          0      Graduate            No   \n",
       "1  LP001003   Male     Yes          1      Graduate            No   \n",
       "2  LP001005   Male     Yes          0      Graduate           Yes   \n",
       "3  LP001006   Male     Yes          0  Not Graduate            No   \n",
       "4  LP001008   Male      No          0      Graduate            No   \n",
       "\n",
       "   ApplicantIncome  CoapplicantIncome  LoanAmount  Loan_Amount_Term  \\\n",
       "0           5849.0                0.0         NaN             360.0   \n",
       "1              NaN             1508.0       128.0             360.0   \n",
       "2           3000.0                0.0        66.0             360.0   \n",
       "3           2583.0             2358.0       120.0             360.0   \n",
       "4           6000.0                0.0       141.0             360.0   \n",
       "\n",
       "   Credit_History Property_Area Loan_Status  \n",
       "0             1.0         Urban           Y  \n",
       "1             1.0         Rural           N  \n",
       "2             1.0         Urban           Y  \n",
       "3             1.0         Urban           Y  \n",
       "4             1.0         Urban           Y  "
      ]
     },
     "execution_count": 4,
     "metadata": {},
     "output_type": "execute_result"
    }
   ],
   "source": [
    "train_df.head()"
   ]
  },
  {
   "cell_type": "code",
   "execution_count": 5,
   "id": "154e738c",
   "metadata": {},
   "outputs": [
    {
     "data": {
      "text/plain": [
       "(614, 13)"
      ]
     },
     "execution_count": 5,
     "metadata": {},
     "output_type": "execute_result"
    }
   ],
   "source": [
    "train_df.shape"
   ]
  },
  {
   "cell_type": "code",
   "execution_count": 6,
   "id": "ed153ffa",
   "metadata": {},
   "outputs": [
    {
     "data": {
      "text/html": [
       "<div>\n",
       "<style scoped>\n",
       "    .dataframe tbody tr th:only-of-type {\n",
       "        vertical-align: middle;\n",
       "    }\n",
       "\n",
       "    .dataframe tbody tr th {\n",
       "        vertical-align: top;\n",
       "    }\n",
       "\n",
       "    .dataframe thead th {\n",
       "        text-align: right;\n",
       "    }\n",
       "</style>\n",
       "<table border=\"1\" class=\"dataframe\">\n",
       "  <thead>\n",
       "    <tr style=\"text-align: right;\">\n",
       "      <th></th>\n",
       "      <th>Loan_ID</th>\n",
       "      <th>Gender</th>\n",
       "      <th>Married</th>\n",
       "      <th>Dependents</th>\n",
       "      <th>Education</th>\n",
       "      <th>Self_Employed</th>\n",
       "      <th>ApplicantIncome</th>\n",
       "      <th>CoapplicantIncome</th>\n",
       "      <th>LoanAmount</th>\n",
       "      <th>Loan_Amount_Term</th>\n",
       "      <th>Credit_History</th>\n",
       "      <th>Property_Area</th>\n",
       "    </tr>\n",
       "  </thead>\n",
       "  <tbody>\n",
       "    <tr>\n",
       "      <th>0</th>\n",
       "      <td>LP001015</td>\n",
       "      <td>Male</td>\n",
       "      <td>Yes</td>\n",
       "      <td>0</td>\n",
       "      <td>Graduate</td>\n",
       "      <td>No</td>\n",
       "      <td>5720</td>\n",
       "      <td>0</td>\n",
       "      <td>110.0</td>\n",
       "      <td>360.0</td>\n",
       "      <td>1.0</td>\n",
       "      <td>Urban</td>\n",
       "    </tr>\n",
       "    <tr>\n",
       "      <th>1</th>\n",
       "      <td>LP001022</td>\n",
       "      <td>Male</td>\n",
       "      <td>Yes</td>\n",
       "      <td>1</td>\n",
       "      <td>Graduate</td>\n",
       "      <td>No</td>\n",
       "      <td>3076</td>\n",
       "      <td>1500</td>\n",
       "      <td>126.0</td>\n",
       "      <td>360.0</td>\n",
       "      <td>1.0</td>\n",
       "      <td>Urban</td>\n",
       "    </tr>\n",
       "    <tr>\n",
       "      <th>2</th>\n",
       "      <td>LP001031</td>\n",
       "      <td>Male</td>\n",
       "      <td>Yes</td>\n",
       "      <td>2</td>\n",
       "      <td>Graduate</td>\n",
       "      <td>No</td>\n",
       "      <td>5000</td>\n",
       "      <td>1800</td>\n",
       "      <td>208.0</td>\n",
       "      <td>360.0</td>\n",
       "      <td>1.0</td>\n",
       "      <td>Urban</td>\n",
       "    </tr>\n",
       "    <tr>\n",
       "      <th>3</th>\n",
       "      <td>LP001035</td>\n",
       "      <td>Male</td>\n",
       "      <td>Yes</td>\n",
       "      <td>2</td>\n",
       "      <td>Graduate</td>\n",
       "      <td>No</td>\n",
       "      <td>2340</td>\n",
       "      <td>2546</td>\n",
       "      <td>100.0</td>\n",
       "      <td>360.0</td>\n",
       "      <td>NaN</td>\n",
       "      <td>Urban</td>\n",
       "    </tr>\n",
       "    <tr>\n",
       "      <th>4</th>\n",
       "      <td>LP001051</td>\n",
       "      <td>Male</td>\n",
       "      <td>No</td>\n",
       "      <td>0</td>\n",
       "      <td>Not Graduate</td>\n",
       "      <td>No</td>\n",
       "      <td>3276</td>\n",
       "      <td>0</td>\n",
       "      <td>78.0</td>\n",
       "      <td>360.0</td>\n",
       "      <td>1.0</td>\n",
       "      <td>Urban</td>\n",
       "    </tr>\n",
       "  </tbody>\n",
       "</table>\n",
       "</div>"
      ],
      "text/plain": [
       "    Loan_ID Gender Married Dependents     Education Self_Employed  \\\n",
       "0  LP001015   Male     Yes          0      Graduate            No   \n",
       "1  LP001022   Male     Yes          1      Graduate            No   \n",
       "2  LP001031   Male     Yes          2      Graduate            No   \n",
       "3  LP001035   Male     Yes          2      Graduate            No   \n",
       "4  LP001051   Male      No          0  Not Graduate            No   \n",
       "\n",
       "   ApplicantIncome  CoapplicantIncome  LoanAmount  Loan_Amount_Term  \\\n",
       "0             5720                  0       110.0             360.0   \n",
       "1             3076               1500       126.0             360.0   \n",
       "2             5000               1800       208.0             360.0   \n",
       "3             2340               2546       100.0             360.0   \n",
       "4             3276                  0        78.0             360.0   \n",
       "\n",
       "   Credit_History Property_Area  \n",
       "0             1.0         Urban  \n",
       "1             1.0         Urban  \n",
       "2             1.0         Urban  \n",
       "3             NaN         Urban  \n",
       "4             1.0         Urban  "
      ]
     },
     "execution_count": 6,
     "metadata": {},
     "output_type": "execute_result"
    }
   ],
   "source": [
    "test_df.head()"
   ]
  },
  {
   "cell_type": "code",
   "execution_count": 7,
   "id": "dd3e1bb0",
   "metadata": {},
   "outputs": [
    {
     "data": {
      "text/plain": [
       "(367, 12)"
      ]
     },
     "execution_count": 7,
     "metadata": {},
     "output_type": "execute_result"
    }
   ],
   "source": [
    "test_df.shape"
   ]
  },
  {
   "cell_type": "code",
   "execution_count": 8,
   "id": "a211bab2",
   "metadata": {},
   "outputs": [
    {
     "name": "stdout",
     "output_type": "stream",
     "text": [
      "<class 'pandas.core.frame.DataFrame'>\n",
      "RangeIndex: 614 entries, 0 to 613\n",
      "Data columns (total 13 columns):\n",
      " #   Column             Non-Null Count  Dtype  \n",
      "---  ------             --------------  -----  \n",
      " 0   Loan_ID            614 non-null    object \n",
      " 1   Gender             599 non-null    object \n",
      " 2   Married            611 non-null    object \n",
      " 3   Dependents         599 non-null    object \n",
      " 4   Education          613 non-null    object \n",
      " 5   Self_Employed      582 non-null    object \n",
      " 6   ApplicantIncome    612 non-null    float64\n",
      " 7   CoapplicantIncome  613 non-null    float64\n",
      " 8   LoanAmount         592 non-null    float64\n",
      " 9   Loan_Amount_Term   600 non-null    float64\n",
      " 10  Credit_History     564 non-null    float64\n",
      " 11  Property_Area      614 non-null    object \n",
      " 12  Loan_Status        614 non-null    object \n",
      "dtypes: float64(5), object(8)\n",
      "memory usage: 62.5+ KB\n"
     ]
    }
   ],
   "source": [
    "train_df.info()"
   ]
  },
  {
   "cell_type": "code",
   "execution_count": 9,
   "id": "3dc60608",
   "metadata": {},
   "outputs": [
    {
     "data": {
      "text/html": [
       "<div>\n",
       "<style scoped>\n",
       "    .dataframe tbody tr th:only-of-type {\n",
       "        vertical-align: middle;\n",
       "    }\n",
       "\n",
       "    .dataframe tbody tr th {\n",
       "        vertical-align: top;\n",
       "    }\n",
       "\n",
       "    .dataframe thead th {\n",
       "        text-align: right;\n",
       "    }\n",
       "</style>\n",
       "<table border=\"1\" class=\"dataframe\">\n",
       "  <thead>\n",
       "    <tr style=\"text-align: right;\">\n",
       "      <th></th>\n",
       "      <th>ApplicantIncome</th>\n",
       "      <th>CoapplicantIncome</th>\n",
       "      <th>LoanAmount</th>\n",
       "      <th>Loan_Amount_Term</th>\n",
       "      <th>Credit_History</th>\n",
       "    </tr>\n",
       "  </thead>\n",
       "  <tbody>\n",
       "    <tr>\n",
       "      <th>count</th>\n",
       "      <td>612.000000</td>\n",
       "      <td>613.000000</td>\n",
       "      <td>592.000000</td>\n",
       "      <td>600.00000</td>\n",
       "      <td>564.000000</td>\n",
       "    </tr>\n",
       "    <tr>\n",
       "      <th>mean</th>\n",
       "      <td>5405.540850</td>\n",
       "      <td>1620.888940</td>\n",
       "      <td>146.412162</td>\n",
       "      <td>342.00000</td>\n",
       "      <td>0.842199</td>\n",
       "    </tr>\n",
       "    <tr>\n",
       "      <th>std</th>\n",
       "      <td>6118.914057</td>\n",
       "      <td>2928.624748</td>\n",
       "      <td>85.587325</td>\n",
       "      <td>65.12041</td>\n",
       "      <td>0.364878</td>\n",
       "    </tr>\n",
       "    <tr>\n",
       "      <th>min</th>\n",
       "      <td>150.000000</td>\n",
       "      <td>0.000000</td>\n",
       "      <td>9.000000</td>\n",
       "      <td>12.00000</td>\n",
       "      <td>0.000000</td>\n",
       "    </tr>\n",
       "    <tr>\n",
       "      <th>25%</th>\n",
       "      <td>2875.750000</td>\n",
       "      <td>0.000000</td>\n",
       "      <td>100.000000</td>\n",
       "      <td>360.00000</td>\n",
       "      <td>1.000000</td>\n",
       "    </tr>\n",
       "    <tr>\n",
       "      <th>50%</th>\n",
       "      <td>3806.000000</td>\n",
       "      <td>1167.000000</td>\n",
       "      <td>128.000000</td>\n",
       "      <td>360.00000</td>\n",
       "      <td>1.000000</td>\n",
       "    </tr>\n",
       "    <tr>\n",
       "      <th>75%</th>\n",
       "      <td>5803.750000</td>\n",
       "      <td>2302.000000</td>\n",
       "      <td>168.000000</td>\n",
       "      <td>360.00000</td>\n",
       "      <td>1.000000</td>\n",
       "    </tr>\n",
       "    <tr>\n",
       "      <th>max</th>\n",
       "      <td>81000.000000</td>\n",
       "      <td>41667.000000</td>\n",
       "      <td>700.000000</td>\n",
       "      <td>480.00000</td>\n",
       "      <td>1.000000</td>\n",
       "    </tr>\n",
       "  </tbody>\n",
       "</table>\n",
       "</div>"
      ],
      "text/plain": [
       "       ApplicantIncome  CoapplicantIncome  LoanAmount  Loan_Amount_Term  \\\n",
       "count       612.000000         613.000000  592.000000         600.00000   \n",
       "mean       5405.540850        1620.888940  146.412162         342.00000   \n",
       "std        6118.914057        2928.624748   85.587325          65.12041   \n",
       "min         150.000000           0.000000    9.000000          12.00000   \n",
       "25%        2875.750000           0.000000  100.000000         360.00000   \n",
       "50%        3806.000000        1167.000000  128.000000         360.00000   \n",
       "75%        5803.750000        2302.000000  168.000000         360.00000   \n",
       "max       81000.000000       41667.000000  700.000000         480.00000   \n",
       "\n",
       "       Credit_History  \n",
       "count      564.000000  \n",
       "mean         0.842199  \n",
       "std          0.364878  \n",
       "min          0.000000  \n",
       "25%          1.000000  \n",
       "50%          1.000000  \n",
       "75%          1.000000  \n",
       "max          1.000000  "
      ]
     },
     "execution_count": 9,
     "metadata": {},
     "output_type": "execute_result"
    }
   ],
   "source": [
    "train_df.describe()"
   ]
  },
  {
   "cell_type": "markdown",
   "id": "d95a1fca",
   "metadata": {},
   "source": [
    "# EDA"
   ]
  },
  {
   "cell_type": "code",
   "execution_count": 10,
   "id": "e1243347",
   "metadata": {},
   "outputs": [
    {
     "data": {
      "text/plain": [
       "<AxesSubplot:>"
      ]
     },
     "execution_count": 10,
     "metadata": {},
     "output_type": "execute_result"
    },
    {
     "data": {
      "image/png": "[encoded data removed]",
      "text/plain": [
       "<Figure size 1440x720 with 2 Axes>"
      ]
     },
     "metadata": {
      "needs_background": "light"
     },
     "output_type": "display_data"
    }
   ],
   "source": [
    "cor=train_df.corr()\n",
    "plt.figure(figsize=(20,10))\n",
    "sns.heatmap(cor,annot=True)"
   ]
  },
  {
   "cell_type": "code",
   "execution_count": 11,
   "id": "6c4ddbf3",
   "metadata": {},
   "outputs": [
    {
     "data": {
      "text/plain": [
       "<AxesSubplot:xlabel='Gender', ylabel='count'>"
      ]
     },
     "execution_count": 11,
     "metadata": {},
     "output_type": "execute_result"
    },
    {
     "data": {
      "image/png": "[encoded data removed]",
      "text/plain": [
       "<Figure size 432x288 with 1 Axes>"
      ]
     },
     "metadata": {
      "needs_background": "light"
     },
     "output_type": "display_data"
    }
   ],
   "source": [
    "sns.countplot(x='Gender',hue='Loan_Status',data=train_df)"
   ]
  },
  {
   "cell_type": "code",
   "execution_count": 12,
   "id": "682e1e1c",
   "metadata": {},
   "outputs": [
    {
     "data": {
      "text/plain": [
       "<AxesSubplot:xlabel='Married', ylabel='count'>"
      ]
     },
     "execution_count": 12,
     "metadata": {},
     "output_type": "execute_result"
    },
    {
     "data": {
      "image/png": "[encoded data removed]",
      "text/plain": [
       "<Figure size 432x288 with 1 Axes>"
      ]
     },
     "metadata": {
      "needs_background": "light"
     },
     "output_type": "display_data"
    }
   ],
   "source": [
    "sns.countplot(x='Married',hue='Loan_Status',data=train_df)"
   ]
  },
  {
   "cell_type": "code",
   "execution_count": 13,
   "id": "4c4fe343",
   "metadata": {},
   "outputs": [
    {
     "data": {
      "text/plain": [
       "<AxesSubplot:xlabel='Dependents', ylabel='count'>"
      ]
     },
     "execution_count": 13,
     "metadata": {},
     "output_type": "execute_result"
    },
    {
     "data": {
      "image/png": "[encoded data removed]",
      "text/plain": [
       "<Figure size 432x288 with 1 Axes>"
      ]
     },
     "metadata": {
      "needs_background": "light"
     },
     "output_type": "display_data"
    }
   ],
   "source": [
    "sns.countplot(x='Dependents',hue='Loan_Status',data=train_df)"
   ]
  },
  {
   "cell_type": "code",
   "execution_count": 14,
   "id": "c7753744",
   "metadata": {},
   "outputs": [
    {
     "data": {
      "text/plain": [
       "<AxesSubplot:xlabel='Education', ylabel='count'>"
      ]
     },
     "execution_count": 14,
     "metadata": {},
     "output_type": "execute_result"
    },
    {
     "data": {
      "image/png": "[encoded data removed]",
      "text/plain": [
       "<Figure size 432x288 with 1 Axes>"
      ]
     },
     "metadata": {
      "needs_background": "light"
     },
     "output_type": "display_data"
    }
   ],
   "source": [
    "sns.countplot(x='Education',hue='Loan_Status',data=train_df)"
   ]
  },
  {
   "cell_type": "code",
   "execution_count": 15,
   "id": "1c2013b3",
   "metadata": {},
   "outputs": [
    {
     "data": {
      "text/plain": [
       "<AxesSubplot:xlabel='Self_Employed', ylabel='count'>"
      ]
     },
     "execution_count": 15,
     "metadata": {},
     "output_type": "execute_result"
    },
    {
     "data": {
      "image/png": "[encoded data removed]",
      "text/plain": [
       "<Figure size 432x288 with 1 Axes>"
      ]
     },
     "metadata": {
      "needs_background": "light"
     },
     "output_type": "display_data"
    }
   ],
   "source": [
    "sns.countplot(x='Self_Employed',hue='Loan_Status',data=train_df)"
   ]
  },
  {
   "cell_type": "code",
   "execution_count": 16,
   "id": "dfdd8df0",
   "metadata": {},
   "outputs": [
    {
     "data": {
      "text/plain": [
       "<AxesSubplot:xlabel='Property_Area', ylabel='count'>"
      ]
     },
     "execution_count": 16,
     "metadata": {},
     "output_type": "execute_result"
    },
    {
     "data": {
      "image/png": "[encoded data removed]",
      "text/plain": [
       "<Figure size 432x288 with 1 Axes>"
      ]
     },
     "metadata": {
      "needs_background": "light"
     },
     "output_type": "display_data"
    }
   ],
   "source": [
    "sns.countplot(x='Property_Area',hue='Loan_Status',data=train_df)"
   ]
  },
  {
   "cell_type": "markdown",
   "id": "73d149c8",
   "metadata": {},
   "source": [
    "High count of loan approval is for:-\n",
    "\n",
    "who are male,married,has no dependents,graduated and not self employed"
   ]
  },
  {
   "cell_type": "code",
   "execution_count": 17,
   "id": "cc0bc49c",
   "metadata": {},
   "outputs": [
    {
     "data": {
      "text/plain": [
       "<seaborn.axisgrid.PairGrid at 0x211c31ac580>"
      ]
     },
     "execution_count": 17,
     "metadata": {},
     "output_type": "execute_result"
    },
    {
     "data": {
      "image/png": "[encoded data removed]",
      "text/plain": [
       "<Figure size 900x900 with 30 Axes>"
      ]
     },
     "metadata": {
      "needs_background": "light"
     },
     "output_type": "display_data"
    }
   ],
   "source": [
    "sns.pairplot(train_df)"
   ]
  },
  {
   "cell_type": "markdown",
   "id": "2cdcf7dd",
   "metadata": {},
   "source": [
    "# Handling Missing Values"
   ]
  },
  {
   "cell_type": "code",
   "execution_count": 18,
   "id": "86eca00f",
   "metadata": {},
   "outputs": [
    {
     "data": {
      "text/plain": [
       "Loan_ID               0\n",
       "Gender               15\n",
       "Married               3\n",
       "Dependents           15\n",
       "Education             1\n",
       "Self_Employed        32\n",
       "ApplicantIncome       2\n",
       "CoapplicantIncome     1\n",
       "LoanAmount           22\n",
       "Loan_Amount_Term     14\n",
       "Credit_History       50\n",
       "Property_Area         0\n",
       "Loan_Status           0\n",
       "dtype: int64"
      ]
     },
     "execution_count": 18,
     "metadata": {},
     "output_type": "execute_result"
    }
   ],
   "source": [
    "train_df.isna().sum()"
   ]
  },
  {
   "cell_type": "code",
   "execution_count": 19,
   "id": "07a704f7",
   "metadata": {},
   "outputs": [
    {
     "data": {
      "text/plain": [
       "Loan_ID               0\n",
       "Gender               11\n",
       "Married               0\n",
       "Dependents           10\n",
       "Education             0\n",
       "Self_Employed        23\n",
       "ApplicantIncome       0\n",
       "CoapplicantIncome     0\n",
       "LoanAmount            5\n",
       "Loan_Amount_Term      6\n",
       "Credit_History       29\n",
       "Property_Area         0\n",
       "dtype: int64"
      ]
     },
     "execution_count": 19,
     "metadata": {},
     "output_type": "execute_result"
    }
   ],
   "source": [
    "test_df.isna().sum()"
   ]
  },
  {
   "cell_type": "code",
   "execution_count": 20,
   "id": "9faa1010",
   "metadata": {},
   "outputs": [],
   "source": [
    "train_df['Gender'].fillna(train_df['Gender'].mode()[0],inplace=True)\n",
    "train_df['Married'].fillna(train_df['Married'].mode()[0],inplace=True)\n",
    "train_df['Dependents'].fillna(train_df['Dependents'].mode()[0],inplace=True)\n",
    "train_df['Education'].fillna(train_df['Education'].mode()[0],inplace=True)\n",
    "train_df['Self_Employed'].fillna(train_df['Self_Employed'].mode()[0],inplace=True)"
   ]
  },
  {
   "cell_type": "code",
   "execution_count": 21,
   "id": "75e67050",
   "metadata": {},
   "outputs": [],
   "source": [
    "train_df['ApplicantIncome'].fillna(train_df['ApplicantIncome'].mean(),inplace=True)\n",
    "train_df['CoapplicantIncome'].fillna(train_df['CoapplicantIncome'].mean(),inplace=True)\n",
    "train_df['LoanAmount'].fillna(train_df['LoanAmount'].mean(),inplace=True)\n",
    "train_df['Loan_Amount_Term'].fillna(train_df['Loan_Amount_Term'].mean(),inplace=True)\n",
    "train_df['Credit_History'].fillna(train_df['Credit_History'].mean(),inplace=True)"
   ]
  },
  {
   "cell_type": "code",
   "execution_count": 22,
   "id": "46504e4c",
   "metadata": {},
   "outputs": [],
   "source": [
    "test_df['Gender'].fillna(test_df['Gender'].mode()[0],inplace=True)\n",
    "test_df['Dependents'].fillna(test_df['Dependents'].mode()[0],inplace=True)\n",
    "test_df['Self_Employed'].fillna(test_df['Self_Employed'].mode()[0],inplace=True)"
   ]
  },
  {
   "cell_type": "code",
   "execution_count": 23,
   "id": "a2076787",
   "metadata": {},
   "outputs": [],
   "source": [
    "test_df['LoanAmount'].fillna(test_df['LoanAmount'].mean(),inplace=True)\n",
    "test_df['Loan_Amount_Term'].fillna(test_df['Loan_Amount_Term'].mean(),inplace=True)\n",
    "test_df['Credit_History'].fillna(test_df['Credit_History'].mean(),inplace=True)"
   ]
  },
  {
   "cell_type": "markdown",
   "id": "3e9bbeaf",
   "metadata": {},
   "source": [
    "# 1.)Check eligibility of the Customer given the inputs described above.(Classification)"
   ]
  },
  {
   "cell_type": "code",
   "execution_count": 24,
   "id": "20f33468",
   "metadata": {},
   "outputs": [],
   "source": [
    "#We will Add Applicant income and coapplicant income to make total income\n",
    "\n",
    "train_df['Total_Income']=train_df['ApplicantIncome']+train_df['CoapplicantIncome']\n",
    "test_df['Total_Income']=test_df['ApplicantIncome']+test_df['CoapplicantIncome']"
   ]
  },
  {
   "cell_type": "code",
   "execution_count": 25,
   "id": "af711572",
   "metadata": {},
   "outputs": [],
   "source": [
    "train_df.drop(['ApplicantIncome','CoapplicantIncome'],axis=1,inplace=True)\n",
    "test_df.drop(['ApplicantIncome','CoapplicantIncome'],axis=1,inplace=True)"
   ]
  },
  {
   "cell_type": "markdown",
   "id": "a9cf3283",
   "metadata": {},
   "source": [
    "# Splitting the Data"
   ]
  },
  {
   "cell_type": "code",
   "execution_count": 26,
   "id": "6622c3cd",
   "metadata": {},
   "outputs": [],
   "source": [
    "x=train_df.drop(['Loan_ID','Loan_Status'],axis=1)\n",
    "y=train_df['Loan_Status']\n",
    "z=test_df.drop(['Loan_ID'],axis=1)"
   ]
  },
  {
   "cell_type": "markdown",
   "id": "a4ee14af",
   "metadata": {},
   "source": [
    "# Label_Encoding"
   ]
  },
  {
   "cell_type": "code",
   "execution_count": 27,
   "id": "f7e0438e",
   "metadata": {},
   "outputs": [],
   "source": [
    "from sklearn.preprocessing import LabelEncoder\n",
    "lbl = LabelEncoder() "
   ]
  },
  {
   "cell_type": "code",
   "execution_count": 28,
   "id": "2ccc99f5",
   "metadata": {},
   "outputs": [
    {
     "name": "stdout",
     "output_type": "stream",
     "text": [
      "Shape all_data: (614, 10)\n"
     ]
    }
   ],
   "source": [
    "cols = x.select_dtypes(include='object').columns\n",
    "\n",
    "for c in cols: \n",
    "    x[c]=lbl.fit_transform(list(x[c].values)) \n",
    "\n",
    "print('Shape all_data: {}'.format(x.shape))"
   ]
  },
  {
   "cell_type": "code",
   "execution_count": 29,
   "id": "51201b75",
   "metadata": {},
   "outputs": [
    {
     "name": "stdout",
     "output_type": "stream",
     "text": [
      "Shape all_data: (367, 10)\n"
     ]
    }
   ],
   "source": [
    "cols = z.select_dtypes(include='object').columns\n",
    "\n",
    "for c in cols: \n",
    "    z[c]=lbl.fit_transform(list(z[c].values)) \n",
    "\n",
    "print('Shape all_data: {}'.format(z.shape))"
   ]
  },
  {
   "cell_type": "code",
   "execution_count": 30,
   "id": "32a83c98",
   "metadata": {},
   "outputs": [],
   "source": [
    "from sklearn.model_selection import train_test_split"
   ]
  },
  {
   "cell_type": "code",
   "execution_count": 31,
   "id": "2ce01b39",
   "metadata": {},
   "outputs": [],
   "source": [
    "xtrain,xtest,ytrain,ytest=train_test_split(x,y,test_size=0.2,random_state=101,stratify=y)"
   ]
  },
  {
   "cell_type": "markdown",
   "id": "c9267fab",
   "metadata": {},
   "source": [
    "# LogisticRegression"
   ]
  },
  {
   "cell_type": "code",
   "execution_count": 32,
   "id": "5fcac95f",
   "metadata": {},
   "outputs": [],
   "source": [
    "from sklearn.linear_model import LogisticRegression"
   ]
  },
  {
   "cell_type": "code",
   "execution_count": 33,
   "id": "edb8d71f",
   "metadata": {},
   "outputs": [
    {
     "data": {
      "text/plain": [
       "LogisticRegression()"
      ]
     },
     "execution_count": 33,
     "metadata": {},
     "output_type": "execute_result"
    }
   ],
   "source": [
    "lr_model=LogisticRegression()\n",
    "lr_model.fit(xtrain,ytrain)"
   ]
  },
  {
   "cell_type": "code",
   "execution_count": 34,
   "id": "5640af90",
   "metadata": {},
   "outputs": [
    {
     "data": {
      "text/plain": [
       "0.8044806517311609"
      ]
     },
     "execution_count": 34,
     "metadata": {},
     "output_type": "execute_result"
    }
   ],
   "source": [
    "lr_model.score(xtrain,ytrain)"
   ]
  },
  {
   "cell_type": "code",
   "execution_count": 35,
   "id": "d57b1f5a",
   "metadata": {},
   "outputs": [
    {
     "data": {
      "text/plain": [
       "0.8211382113821138"
      ]
     },
     "execution_count": 35,
     "metadata": {},
     "output_type": "execute_result"
    }
   ],
   "source": [
    "lr_model.score(xtest,ytest)"
   ]
  },
  {
   "cell_type": "markdown",
   "id": "820fe243",
   "metadata": {},
   "source": [
    "# DecisionTreeClassifier"
   ]
  },
  {
   "cell_type": "code",
   "execution_count": 36,
   "id": "919f802a",
   "metadata": {},
   "outputs": [],
   "source": [
    "from sklearn.tree import DecisionTreeClassifier"
   ]
  },
  {
   "cell_type": "code",
   "execution_count": 37,
   "id": "c4f4440f",
   "metadata": {},
   "outputs": [
    {
     "data": {
      "text/plain": [
       "DecisionTreeClassifier(random_state=101)"
      ]
     },
     "execution_count": 37,
     "metadata": {},
     "output_type": "execute_result"
    }
   ],
   "source": [
    "dt_model=DecisionTreeClassifier(random_state=101)\n",
    "dt_model.fit(xtrain,ytrain)"
   ]
  },
  {
   "cell_type": "code",
   "execution_count": 38,
   "id": "52eef6ab",
   "metadata": {},
   "outputs": [
    {
     "data": {
      "text/plain": [
       "1.0"
      ]
     },
     "execution_count": 38,
     "metadata": {},
     "output_type": "execute_result"
    }
   ],
   "source": [
    "dt_model.score(xtrain,ytrain)"
   ]
  },
  {
   "cell_type": "code",
   "execution_count": 39,
   "id": "7f9a3a16",
   "metadata": {},
   "outputs": [
    {
     "data": {
      "text/plain": [
       "0.6585365853658537"
      ]
     },
     "execution_count": 39,
     "metadata": {},
     "output_type": "execute_result"
    }
   ],
   "source": [
    "dt_model.score(xtest,ytest)"
   ]
  },
  {
   "cell_type": "markdown",
   "id": "1744c4d9",
   "metadata": {},
   "source": [
    "# RandomForestClassifier"
   ]
  },
  {
   "cell_type": "code",
   "execution_count": 40,
   "id": "aa5e2d85",
   "metadata": {},
   "outputs": [],
   "source": [
    "from sklearn.ensemble import RandomForestClassifier"
   ]
  },
  {
   "cell_type": "code",
   "execution_count": 41,
   "id": "7d07dbf7",
   "metadata": {},
   "outputs": [
    {
     "data": {
      "text/plain": [
       "RandomForestClassifier(random_state=101)"
      ]
     },
     "execution_count": 41,
     "metadata": {},
     "output_type": "execute_result"
    }
   ],
   "source": [
    "rf_model=RandomForestClassifier(random_state=101)\n",
    "rf_model.fit(xtrain,ytrain)"
   ]
  },
  {
   "cell_type": "code",
   "execution_count": 42,
   "id": "b897d64f",
   "metadata": {},
   "outputs": [
    {
     "data": {
      "text/plain": [
       "1.0"
      ]
     },
     "execution_count": 42,
     "metadata": {},
     "output_type": "execute_result"
    }
   ],
   "source": [
    "rf_model.score(xtrain,ytrain)"
   ]
  },
  {
   "cell_type": "code",
   "execution_count": 43,
   "id": "3b048d12",
   "metadata": {},
   "outputs": [
    {
     "data": {
      "text/plain": [
       "0.8130081300813008"
      ]
     },
     "execution_count": 43,
     "metadata": {},
     "output_type": "execute_result"
    }
   ],
   "source": [
    "rf_model.score(xtest,ytest)"
   ]
  },
  {
   "cell_type": "markdown",
   "id": "4bf2187b",
   "metadata": {},
   "source": [
    "# RandomizedSearchCV using random forest model"
   ]
  },
  {
   "cell_type": "code",
   "execution_count": 44,
   "id": "92c1e61f",
   "metadata": {},
   "outputs": [],
   "source": [
    "from sklearn.model_selection import RandomizedSearchCV"
   ]
  },
  {
   "cell_type": "code",
   "execution_count": 45,
   "id": "85156509",
   "metadata": {},
   "outputs": [
    {
     "data": {
      "text/plain": [
       "RandomizedSearchCV(cv=9, estimator=RandomForestClassifier(random_state=101),\n",
       "                   param_distributions={'max_depth': array([2, 3, 4, 5, 6, 7, 8, 9]),\n",
       "                                        'min_samples_leaf': array([ 1,  2,  3,  4,  5,  6,  7,  8,  9, 10, 11, 12, 13, 14]),\n",
       "                                        'min_samples_split': array([ 2,  3,  4,  5,  6,  7,  8,  9, 10, 11, 12, 13, 14, 15, 16, 17, 18,\n",
       "       19])})"
      ]
     },
     "execution_count": 45,
     "metadata": {},
     "output_type": "execute_result"
    }
   ],
   "source": [
    "rf_model  = RandomForestClassifier(random_state=101)\n",
    "\n",
    "hyp = {'max_depth':np.arange(2,10),'min_samples_split':np.arange(2,20),\n",
    "        'min_samples_leaf':np.arange(1,15)}\n",
    "\n",
    "rscv_rf_model = RandomizedSearchCV(rf_model,hyp,cv=9)\n",
    "\n",
    "rscv_rf_model.fit(xtrain,ytrain)"
   ]
  },
  {
   "cell_type": "code",
   "execution_count": 46,
   "id": "929d21c0",
   "metadata": {},
   "outputs": [
    {
     "data": {
      "text/plain": [
       "RandomForestClassifier(max_depth=4, min_samples_leaf=12, min_samples_split=8,\n",
       "                       random_state=101)"
      ]
     },
     "execution_count": 46,
     "metadata": {},
     "output_type": "execute_result"
    }
   ],
   "source": [
    "rscv_rf_model.best_estimator_"
   ]
  },
  {
   "cell_type": "code",
   "execution_count": 47,
   "id": "185d7001",
   "metadata": {},
   "outputs": [
    {
     "data": {
      "text/plain": [
       "RandomForestClassifier(max_depth=4, min_samples_leaf=12, min_samples_split=8,\n",
       "                       random_state=101)"
      ]
     },
     "execution_count": 47,
     "metadata": {},
     "output_type": "execute_result"
    }
   ],
   "source": [
    "rf_model = rscv_rf_model.best_estimator_\n",
    "rf_model.fit(xtrain,ytrain)"
   ]
  },
  {
   "cell_type": "code",
   "execution_count": 48,
   "id": "6018cbcd",
   "metadata": {},
   "outputs": [
    {
     "data": {
      "text/plain": [
       "0.8065173116089613"
      ]
     },
     "execution_count": 48,
     "metadata": {},
     "output_type": "execute_result"
    }
   ],
   "source": [
    "rf_model.score(xtrain,ytrain)"
   ]
  },
  {
   "cell_type": "code",
   "execution_count": 49,
   "id": "329af8f5",
   "metadata": {},
   "outputs": [
    {
     "data": {
      "text/plain": [
       "0.8211382113821138"
      ]
     },
     "execution_count": 49,
     "metadata": {},
     "output_type": "execute_result"
    }
   ],
   "source": [
    "rf_model.score(xtest,ytest)"
   ]
  },
  {
   "cell_type": "code",
   "execution_count": 50,
   "id": "1edde29e",
   "metadata": {},
   "outputs": [],
   "source": [
    "y_predicted=rf_model.predict(z)"
   ]
  },
  {
   "cell_type": "code",
   "execution_count": 51,
   "id": "84ee13d4",
   "metadata": {},
   "outputs": [
    {
     "data": {
      "text/plain": [
       "array(['Y', 'Y', 'Y', 'Y', 'Y', 'Y', 'Y', 'N', 'Y', 'Y', 'Y', 'Y', 'Y',\n",
       "       'N', 'Y', 'Y', 'Y', 'Y', 'Y', 'Y', 'Y', 'Y', 'Y', 'Y', 'Y', 'N',\n",
       "       'Y', 'Y', 'Y', 'Y', 'Y', 'Y', 'Y', 'Y', 'Y', 'N', 'Y', 'Y', 'Y',\n",
       "       'Y', 'Y', 'Y', 'Y', 'Y', 'Y', 'Y', 'Y', 'Y', 'Y', 'Y', 'Y', 'Y',\n",
       "       'Y', 'Y', 'Y', 'N', 'Y', 'Y', 'N', 'Y', 'Y', 'Y', 'Y', 'N', 'Y',\n",
       "       'Y', 'N', 'N', 'Y', 'N', 'Y', 'Y', 'Y', 'Y', 'Y', 'Y', 'Y', 'Y',\n",
       "       'Y', 'Y', 'N', 'Y', 'N', 'Y', 'N', 'Y', 'Y', 'Y', 'Y', 'Y', 'Y',\n",
       "       'Y', 'Y', 'Y', 'N', 'Y', 'Y', 'Y', 'Y', 'Y', 'Y', 'N', 'Y', 'Y',\n",
       "       'Y', 'Y', 'N', 'Y', 'Y', 'Y', 'Y', 'Y', 'Y', 'Y', 'Y', 'Y', 'Y',\n",
       "       'N', 'N', 'N', 'Y', 'Y', 'Y', 'N', 'N', 'Y', 'N', 'Y', 'Y', 'Y',\n",
       "       'Y', 'Y', 'Y', 'Y', 'Y', 'Y', 'Y', 'Y', 'Y', 'Y', 'N', 'Y', 'N',\n",
       "       'Y', 'Y', 'Y', 'Y', 'N', 'Y', 'Y', 'Y', 'Y', 'Y', 'N', 'Y', 'Y',\n",
       "       'Y', 'Y', 'Y', 'Y', 'Y', 'N', 'Y', 'Y', 'Y', 'N', 'N', 'Y', 'N',\n",
       "       'Y', 'Y', 'Y', 'Y', 'N', 'N', 'Y', 'Y', 'Y', 'Y', 'Y', 'Y', 'Y',\n",
       "       'Y', 'Y', 'Y', 'Y', 'Y', 'Y', 'Y', 'Y', 'Y', 'Y', 'N', 'N', 'Y',\n",
       "       'Y', 'N', 'Y', 'N', 'Y', 'Y', 'Y', 'Y', 'Y', 'Y', 'Y', 'Y', 'Y',\n",
       "       'Y', 'Y', 'Y', 'N', 'Y', 'Y', 'Y', 'Y', 'Y', 'Y', 'Y', 'Y', 'Y',\n",
       "       'Y', 'Y', 'Y', 'N', 'Y', 'Y', 'Y', 'Y', 'N', 'Y', 'Y', 'Y', 'Y',\n",
       "       'Y', 'N', 'N', 'Y', 'Y', 'Y', 'Y', 'N', 'Y', 'N', 'Y', 'N', 'Y',\n",
       "       'Y', 'Y', 'Y', 'N', 'Y', 'Y', 'Y', 'Y', 'N', 'Y', 'Y', 'Y', 'Y',\n",
       "       'Y', 'Y', 'Y', 'Y', 'Y', 'Y', 'N', 'Y', 'N', 'Y', 'Y', 'Y', 'Y',\n",
       "       'N', 'N', 'Y', 'Y', 'Y', 'N', 'Y', 'Y', 'Y', 'Y', 'Y', 'Y', 'Y',\n",
       "       'Y', 'Y', 'Y', 'Y', 'Y', 'Y', 'Y', 'N', 'Y', 'Y', 'Y', 'Y', 'Y',\n",
       "       'Y', 'Y', 'N', 'Y', 'Y', 'Y', 'Y', 'Y', 'Y', 'Y', 'Y', 'Y', 'N',\n",
       "       'Y', 'Y', 'Y', 'Y', 'Y', 'N', 'Y', 'Y', 'Y', 'Y', 'Y', 'Y', 'Y',\n",
       "       'N', 'Y', 'Y', 'Y', 'Y', 'Y', 'Y', 'Y', 'Y', 'Y', 'Y', 'Y', 'Y',\n",
       "       'Y', 'N', 'Y', 'Y', 'Y', 'Y', 'Y', 'Y', 'N', 'Y', 'Y', 'Y', 'Y',\n",
       "       'Y', 'Y', 'Y', 'N', 'Y', 'Y', 'Y', 'Y', 'Y', 'Y', 'Y', 'Y', 'Y',\n",
       "       'Y', 'Y', 'Y'], dtype=object)"
      ]
     },
     "execution_count": 51,
     "metadata": {},
     "output_type": "execute_result"
    }
   ],
   "source": [
    "y_predicted"
   ]
  },
  {
   "cell_type": "code",
   "execution_count": 52,
   "id": "fcb70886",
   "metadata": {},
   "outputs": [
    {
     "data": {
      "text/html": [
       "<div>\n",
       "<style scoped>\n",
       "    .dataframe tbody tr th:only-of-type {\n",
       "        vertical-align: middle;\n",
       "    }\n",
       "\n",
       "    .dataframe tbody tr th {\n",
       "        vertical-align: top;\n",
       "    }\n",
       "\n",
       "    .dataframe thead th {\n",
       "        text-align: right;\n",
       "    }\n",
       "</style>\n",
       "<table border=\"1\" class=\"dataframe\">\n",
       "  <thead>\n",
       "    <tr style=\"text-align: right;\">\n",
       "      <th></th>\n",
       "      <th>Loan_ID</th>\n",
       "      <th>Loan_Status</th>\n",
       "    </tr>\n",
       "  </thead>\n",
       "  <tbody>\n",
       "    <tr>\n",
       "      <th>0</th>\n",
       "      <td>LP001015</td>\n",
       "      <td>Y</td>\n",
       "    </tr>\n",
       "    <tr>\n",
       "      <th>1</th>\n",
       "      <td>LP001022</td>\n",
       "      <td>Y</td>\n",
       "    </tr>\n",
       "    <tr>\n",
       "      <th>2</th>\n",
       "      <td>LP001031</td>\n",
       "      <td>Y</td>\n",
       "    </tr>\n",
       "    <tr>\n",
       "      <th>3</th>\n",
       "      <td>LP001035</td>\n",
       "      <td>Y</td>\n",
       "    </tr>\n",
       "    <tr>\n",
       "      <th>4</th>\n",
       "      <td>LP001051</td>\n",
       "      <td>Y</td>\n",
       "    </tr>\n",
       "  </tbody>\n",
       "</table>\n",
       "</div>"
      ],
      "text/plain": [
       "    Loan_ID Loan_Status\n",
       "0  LP001015           Y\n",
       "1  LP001022           Y\n",
       "2  LP001031           Y\n",
       "3  LP001035           Y\n",
       "4  LP001051           Y"
      ]
     },
     "execution_count": 52,
     "metadata": {},
     "output_type": "execute_result"
    }
   ],
   "source": [
    "loan_status=pd.DataFrame(y_predicted,columns=['Loan_Status'])\n",
    "\n",
    "submit=pd.concat([test_df['Loan_ID'],loan_status],axis=1)\n",
    "#submit.columns=['Loan_ID','Loan_Status']\n",
    "submit.head()"
   ]
  },
  {
   "cell_type": "markdown",
   "id": "3ef90529",
   "metadata": {},
   "source": [
    "# 2.\n",
    "Identify customer segments from given data and categorize customer into one of the segments.(Clustering)"
   ]
  },
  {
   "cell_type": "markdown",
   "id": "f4b5fda6",
   "metadata": {},
   "source": [
    "# KMeans Clustering"
   ]
  },
  {
   "cell_type": "code",
   "execution_count": 53,
   "id": "84051145",
   "metadata": {},
   "outputs": [],
   "source": [
    "from sklearn.cluster import KMeans\n",
    "wcss=[]"
   ]
  },
  {
   "cell_type": "code",
   "execution_count": 54,
   "id": "712d31e2",
   "metadata": {},
   "outputs": [],
   "source": [
    "for i in range(1,11):\n",
    "    kmeans=KMeans(n_clusters=i,random_state=101)\n",
    "    kmeans.fit(x)\n",
    "    wcss.append(kmeans.inertia_)"
   ]
  },
  {
   "cell_type": "code",
   "execution_count": 55,
   "id": "e9c18214",
   "metadata": {},
   "outputs": [
    {
     "data": {
      "image/png": "[encoded data removed]",
      "text/plain": [
       "<Figure size 432x288 with 1 Axes>"
      ]
     },
     "metadata": {
      "needs_background": "light"
     },
     "output_type": "display_data"
    }
   ],
   "source": [
    "plt.plot(range(1,11),wcss)\n",
    "plt.title(\"The Elbow Method\")\n",
    "plt.xlabel(\"No. of clusters\")\n",
    "plt.ylabel(\"WCSS values\")\n",
    "plt.show()"
   ]
  },
  {
   "cell_type": "markdown",
   "id": "6950def7",
   "metadata": {},
   "source": [
    "From Elbow method we got 3 clusters"
   ]
  },
  {
   "cell_type": "code",
   "execution_count": 56,
   "id": "505319f1",
   "metadata": {},
   "outputs": [],
   "source": [
    "kmeans_model=KMeans(n_clusters=3,random_state=101)\n",
    "y_means=kmeans_model.fit_predict(z)"
   ]
  },
  {
   "cell_type": "code",
   "execution_count": 57,
   "id": "076b957e",
   "metadata": {},
   "outputs": [
    {
     "data": {
      "text/plain": [
       "array([1, 1, 1, 1, 1, 1, 1, 1, 0, 1, 1, 1, 1, 0, 1, 1, 1, 1, 0, 1, 1, 1,\n",
       "       1, 1, 1, 0, 1, 1, 1, 1, 1, 1, 1, 1, 1, 1, 1, 1, 1, 1, 1, 1, 1, 1,\n",
       "       1, 1, 1, 1, 1, 1, 1, 1, 1, 1, 1, 1, 1, 1, 1, 1, 1, 1, 1, 1, 1, 1,\n",
       "       1, 1, 1, 1, 1, 1, 1, 1, 1, 1, 1, 1, 1, 1, 1, 2, 1, 1, 1, 0, 1, 1,\n",
       "       1, 1, 1, 0, 1, 1, 1, 1, 1, 1, 1, 1, 1, 1, 1, 1, 1, 1, 1, 1, 1, 1,\n",
       "       1, 1, 1, 1, 1, 1, 1, 1, 1, 1, 1, 1, 1, 1, 0, 1, 1, 1, 1, 1, 1, 1,\n",
       "       1, 1, 1, 1, 1, 1, 1, 1, 1, 1, 1, 0, 1, 0, 1, 1, 1, 1, 1, 1, 1, 1,\n",
       "       1, 1, 1, 1, 1, 1, 1, 1, 1, 1, 1, 1, 1, 1, 1, 1, 1, 1, 1, 1, 1, 1,\n",
       "       1, 1, 1, 0, 1, 1, 1, 1, 1, 1, 1, 1, 0, 0, 1, 1, 1, 1, 0, 1, 1, 1,\n",
       "       1, 1, 1, 1, 1, 1, 1, 1, 1, 1, 1, 1, 1, 1, 1, 1, 1, 1, 1, 1, 1, 1,\n",
       "       1, 1, 1, 1, 1, 1, 1, 1, 1, 1, 0, 1, 1, 1, 1, 1, 1, 0, 1, 1, 1, 1,\n",
       "       1, 1, 1, 1, 1, 1, 1, 1, 1, 1, 1, 1, 1, 1, 1, 1, 1, 1, 1, 1, 1, 0,\n",
       "       1, 1, 1, 1, 1, 1, 1, 1, 0, 1, 1, 1, 1, 1, 1, 0, 1, 1, 1, 1, 0, 1,\n",
       "       1, 1, 1, 0, 1, 1, 1, 1, 1, 1, 1, 1, 1, 1, 1, 1, 0, 1, 1, 1, 1, 1,\n",
       "       1, 1, 1, 1, 1, 1, 1, 1, 1, 1, 1, 1, 1, 1, 1, 0, 1, 1, 1, 1, 1, 1,\n",
       "       1, 1, 1, 1, 1, 1, 1, 1, 1, 1, 1, 1, 1, 1, 1, 1, 1, 1, 1, 1, 1, 0,\n",
       "       1, 1, 1, 1, 1, 1, 1, 1, 0, 1, 1, 1, 1, 1, 1])"
      ]
     },
     "execution_count": 57,
     "metadata": {},
     "output_type": "execute_result"
    }
   ],
   "source": [
    "y_means"
   ]
  },
  {
   "cell_type": "code",
   "execution_count": 58,
   "id": "91d60375",
   "metadata": {},
   "outputs": [
    {
     "data": {
      "text/html": [
       "<div>\n",
       "<style scoped>\n",
       "    .dataframe tbody tr th:only-of-type {\n",
       "        vertical-align: middle;\n",
       "    }\n",
       "\n",
       "    .dataframe tbody tr th {\n",
       "        vertical-align: top;\n",
       "    }\n",
       "\n",
       "    .dataframe thead th {\n",
       "        text-align: right;\n",
       "    }\n",
       "</style>\n",
       "<table border=\"1\" class=\"dataframe\">\n",
       "  <thead>\n",
       "    <tr style=\"text-align: right;\">\n",
       "      <th></th>\n",
       "      <th>Loan_ID</th>\n",
       "      <th>Loan_Status</th>\n",
       "    </tr>\n",
       "  </thead>\n",
       "  <tbody>\n",
       "    <tr>\n",
       "      <th>0</th>\n",
       "      <td>LP001015</td>\n",
       "      <td>Y</td>\n",
       "    </tr>\n",
       "    <tr>\n",
       "      <th>1</th>\n",
       "      <td>LP001022</td>\n",
       "      <td>Y</td>\n",
       "    </tr>\n",
       "    <tr>\n",
       "      <th>2</th>\n",
       "      <td>LP001031</td>\n",
       "      <td>Y</td>\n",
       "    </tr>\n",
       "    <tr>\n",
       "      <th>3</th>\n",
       "      <td>LP001035</td>\n",
       "      <td>Y</td>\n",
       "    </tr>\n",
       "    <tr>\n",
       "      <th>4</th>\n",
       "      <td>LP001051</td>\n",
       "      <td>Y</td>\n",
       "    </tr>\n",
       "  </tbody>\n",
       "</table>\n",
       "</div>"
      ],
      "text/plain": [
       "    Loan_ID Loan_Status\n",
       "0  LP001015           Y\n",
       "1  LP001022           Y\n",
       "2  LP001031           Y\n",
       "3  LP001035           Y\n",
       "4  LP001051           Y"
      ]
     },
     "execution_count": 58,
     "metadata": {},
     "output_type": "execute_result"
    }
   ],
   "source": [
    "loan_status1=pd.DataFrame(y_means)\n",
    "\n",
    "submit1=pd.concat([test_df['Loan_ID'],loan_status],axis=1)\n",
    "submit1.columns=['Loan_ID','Loan_Status']\n",
    "submit1.head()"
   ]
  },
  {
   "cell_type": "markdown",
   "id": "19291d1a",
   "metadata": {},
   "source": [
    "# 3\n",
    "If customer is not eligible for the input required amount and duration:\n",
    "A). what can be amount for the given duration.(Regression)"
   ]
  },
  {
   "cell_type": "code",
   "execution_count": 59,
   "id": "3c3585ed",
   "metadata": {},
   "outputs": [],
   "source": [
    "#train_df2 contains data whose loan has been sanctioned (from main training data)\n",
    "\n",
    "train_df2=train_df[train_df.Loan_Status=='Y']"
   ]
  },
  {
   "cell_type": "code",
   "execution_count": 60,
   "id": "4c67cb46",
   "metadata": {},
   "outputs": [],
   "source": [
    "# test_df2 contains data whose loan has been rejected (on testing data for which we have done predictions in problem 1)\n",
    "\n",
    "test_df2=test_df.join(loan_status)\n",
    "test_df2=test_df2[test_df2.Loan_Status=='N']"
   ]
  },
  {
   "cell_type": "code",
   "execution_count": 61,
   "id": "c6024db0",
   "metadata": {},
   "outputs": [],
   "source": [
    "#Reindexing\n",
    "\n",
    "train_df2.index = range(0,train_df2.shape[0])\n",
    "test_df2.index = range(0,test_df2.shape[0])"
   ]
  },
  {
   "cell_type": "code",
   "execution_count": 62,
   "id": "80d4229d",
   "metadata": {
    "scrolled": true
   },
   "outputs": [
    {
     "data": {
      "text/html": [
       "<div>\n",
       "<style scoped>\n",
       "    .dataframe tbody tr th:only-of-type {\n",
       "        vertical-align: middle;\n",
       "    }\n",
       "\n",
       "    .dataframe tbody tr th {\n",
       "        vertical-align: top;\n",
       "    }\n",
       "\n",
       "    .dataframe thead th {\n",
       "        text-align: right;\n",
       "    }\n",
       "</style>\n",
       "<table border=\"1\" class=\"dataframe\">\n",
       "  <thead>\n",
       "    <tr style=\"text-align: right;\">\n",
       "      <th></th>\n",
       "      <th>Loan_ID</th>\n",
       "      <th>Gender</th>\n",
       "      <th>Married</th>\n",
       "      <th>Dependents</th>\n",
       "      <th>Education</th>\n",
       "      <th>Self_Employed</th>\n",
       "      <th>LoanAmount</th>\n",
       "      <th>Loan_Amount_Term</th>\n",
       "      <th>Credit_History</th>\n",
       "      <th>Property_Area</th>\n",
       "      <th>Loan_Status</th>\n",
       "      <th>Total_Income</th>\n",
       "    </tr>\n",
       "  </thead>\n",
       "  <tbody>\n",
       "    <tr>\n",
       "      <th>0</th>\n",
       "      <td>LP001002</td>\n",
       "      <td>Male</td>\n",
       "      <td>No</td>\n",
       "      <td>0</td>\n",
       "      <td>Graduate</td>\n",
       "      <td>No</td>\n",
       "      <td>146.412162</td>\n",
       "      <td>360.0</td>\n",
       "      <td>1.0</td>\n",
       "      <td>Urban</td>\n",
       "      <td>Y</td>\n",
       "      <td>5849.0</td>\n",
       "    </tr>\n",
       "    <tr>\n",
       "      <th>1</th>\n",
       "      <td>LP001005</td>\n",
       "      <td>Male</td>\n",
       "      <td>Yes</td>\n",
       "      <td>0</td>\n",
       "      <td>Graduate</td>\n",
       "      <td>Yes</td>\n",
       "      <td>66.000000</td>\n",
       "      <td>360.0</td>\n",
       "      <td>1.0</td>\n",
       "      <td>Urban</td>\n",
       "      <td>Y</td>\n",
       "      <td>3000.0</td>\n",
       "    </tr>\n",
       "    <tr>\n",
       "      <th>2</th>\n",
       "      <td>LP001006</td>\n",
       "      <td>Male</td>\n",
       "      <td>Yes</td>\n",
       "      <td>0</td>\n",
       "      <td>Not Graduate</td>\n",
       "      <td>No</td>\n",
       "      <td>120.000000</td>\n",
       "      <td>360.0</td>\n",
       "      <td>1.0</td>\n",
       "      <td>Urban</td>\n",
       "      <td>Y</td>\n",
       "      <td>4941.0</td>\n",
       "    </tr>\n",
       "    <tr>\n",
       "      <th>3</th>\n",
       "      <td>LP001008</td>\n",
       "      <td>Male</td>\n",
       "      <td>No</td>\n",
       "      <td>0</td>\n",
       "      <td>Graduate</td>\n",
       "      <td>No</td>\n",
       "      <td>141.000000</td>\n",
       "      <td>360.0</td>\n",
       "      <td>1.0</td>\n",
       "      <td>Urban</td>\n",
       "      <td>Y</td>\n",
       "      <td>6000.0</td>\n",
       "    </tr>\n",
       "    <tr>\n",
       "      <th>4</th>\n",
       "      <td>LP001011</td>\n",
       "      <td>Male</td>\n",
       "      <td>Yes</td>\n",
       "      <td>2</td>\n",
       "      <td>Graduate</td>\n",
       "      <td>Yes</td>\n",
       "      <td>267.000000</td>\n",
       "      <td>360.0</td>\n",
       "      <td>1.0</td>\n",
       "      <td>Urban</td>\n",
       "      <td>Y</td>\n",
       "      <td>9613.0</td>\n",
       "    </tr>\n",
       "  </tbody>\n",
       "</table>\n",
       "</div>"
      ],
      "text/plain": [
       "    Loan_ID Gender Married Dependents     Education Self_Employed  LoanAmount  \\\n",
       "0  LP001002   Male      No          0      Graduate            No  146.412162   \n",
       "1  LP001005   Male     Yes          0      Graduate           Yes   66.000000   \n",
       "2  LP001006   Male     Yes          0  Not Graduate            No  120.000000   \n",
       "3  LP001008   Male      No          0      Graduate            No  141.000000   \n",
       "4  LP001011   Male     Yes          2      Graduate           Yes  267.000000   \n",
       "\n",
       "   Loan_Amount_Term  Credit_History Property_Area Loan_Status  Total_Income  \n",
       "0             360.0             1.0         Urban           Y        5849.0  \n",
       "1             360.0             1.0         Urban           Y        3000.0  \n",
       "2             360.0             1.0         Urban           Y        4941.0  \n",
       "3             360.0             1.0         Urban           Y        6000.0  \n",
       "4             360.0             1.0         Urban           Y        9613.0  "
      ]
     },
     "execution_count": 62,
     "metadata": {},
     "output_type": "execute_result"
    }
   ],
   "source": [
    "train_df2.head()"
   ]
  },
  {
   "cell_type": "code",
   "execution_count": 63,
   "id": "df597c4a",
   "metadata": {},
   "outputs": [
    {
     "data": {
      "text/html": [
       "<div>\n",
       "<style scoped>\n",
       "    .dataframe tbody tr th:only-of-type {\n",
       "        vertical-align: middle;\n",
       "    }\n",
       "\n",
       "    .dataframe tbody tr th {\n",
       "        vertical-align: top;\n",
       "    }\n",
       "\n",
       "    .dataframe thead th {\n",
       "        text-align: right;\n",
       "    }\n",
       "</style>\n",
       "<table border=\"1\" class=\"dataframe\">\n",
       "  <thead>\n",
       "    <tr style=\"text-align: right;\">\n",
       "      <th></th>\n",
       "      <th>Loan_ID</th>\n",
       "      <th>Gender</th>\n",
       "      <th>Married</th>\n",
       "      <th>Dependents</th>\n",
       "      <th>Education</th>\n",
       "      <th>Self_Employed</th>\n",
       "      <th>LoanAmount</th>\n",
       "      <th>Loan_Amount_Term</th>\n",
       "      <th>Credit_History</th>\n",
       "      <th>Property_Area</th>\n",
       "      <th>Total_Income</th>\n",
       "      <th>Loan_Status</th>\n",
       "    </tr>\n",
       "  </thead>\n",
       "  <tbody>\n",
       "    <tr>\n",
       "      <th>0</th>\n",
       "      <td>LP001056</td>\n",
       "      <td>Male</td>\n",
       "      <td>Yes</td>\n",
       "      <td>2</td>\n",
       "      <td>Not Graduate</td>\n",
       "      <td>No</td>\n",
       "      <td>147.0</td>\n",
       "      <td>360.0</td>\n",
       "      <td>0.0</td>\n",
       "      <td>Rural</td>\n",
       "      <td>3881</td>\n",
       "      <td>N</td>\n",
       "    </tr>\n",
       "    <tr>\n",
       "      <th>1</th>\n",
       "      <td>LP001094</td>\n",
       "      <td>Male</td>\n",
       "      <td>Yes</td>\n",
       "      <td>2</td>\n",
       "      <td>Graduate</td>\n",
       "      <td>No</td>\n",
       "      <td>166.0</td>\n",
       "      <td>360.0</td>\n",
       "      <td>0.0</td>\n",
       "      <td>Semiurban</td>\n",
       "      <td>12173</td>\n",
       "      <td>N</td>\n",
       "    </tr>\n",
       "    <tr>\n",
       "      <th>2</th>\n",
       "      <td>LP001153</td>\n",
       "      <td>Male</td>\n",
       "      <td>No</td>\n",
       "      <td>0</td>\n",
       "      <td>Graduate</td>\n",
       "      <td>No</td>\n",
       "      <td>148.0</td>\n",
       "      <td>360.0</td>\n",
       "      <td>0.0</td>\n",
       "      <td>Rural</td>\n",
       "      <td>24000</td>\n",
       "      <td>N</td>\n",
       "    </tr>\n",
       "    <tr>\n",
       "      <th>3</th>\n",
       "      <td>LP001203</td>\n",
       "      <td>Male</td>\n",
       "      <td>No</td>\n",
       "      <td>0</td>\n",
       "      <td>Graduate</td>\n",
       "      <td>No</td>\n",
       "      <td>176.0</td>\n",
       "      <td>360.0</td>\n",
       "      <td>0.0</td>\n",
       "      <td>Semiurban</td>\n",
       "      <td>3150</td>\n",
       "      <td>N</td>\n",
       "    </tr>\n",
       "    <tr>\n",
       "      <th>4</th>\n",
       "      <td>LP001313</td>\n",
       "      <td>Male</td>\n",
       "      <td>No</td>\n",
       "      <td>0</td>\n",
       "      <td>Graduate</td>\n",
       "      <td>No</td>\n",
       "      <td>130.0</td>\n",
       "      <td>360.0</td>\n",
       "      <td>0.0</td>\n",
       "      <td>Urban</td>\n",
       "      <td>2750</td>\n",
       "      <td>N</td>\n",
       "    </tr>\n",
       "  </tbody>\n",
       "</table>\n",
       "</div>"
      ],
      "text/plain": [
       "    Loan_ID Gender Married Dependents     Education Self_Employed  LoanAmount  \\\n",
       "0  LP001056   Male     Yes          2  Not Graduate            No       147.0   \n",
       "1  LP001094   Male     Yes          2      Graduate            No       166.0   \n",
       "2  LP001153   Male      No          0      Graduate            No       148.0   \n",
       "3  LP001203   Male      No          0      Graduate            No       176.0   \n",
       "4  LP001313   Male      No          0      Graduate            No       130.0   \n",
       "\n",
       "   Loan_Amount_Term  Credit_History Property_Area  Total_Income Loan_Status  \n",
       "0             360.0             0.0         Rural          3881           N  \n",
       "1             360.0             0.0     Semiurban         12173           N  \n",
       "2             360.0             0.0         Rural         24000           N  \n",
       "3             360.0             0.0     Semiurban          3150           N  \n",
       "4             360.0             0.0         Urban          2750           N  "
      ]
     },
     "execution_count": 63,
     "metadata": {},
     "output_type": "execute_result"
    }
   ],
   "source": [
    "test_df2.head()"
   ]
  },
  {
   "cell_type": "code",
   "execution_count": 64,
   "id": "aa34972a",
   "metadata": {},
   "outputs": [],
   "source": [
    "train_df22=train_df2.drop(['Loan_ID','Loan_Status'],axis=1)\n",
    "test_df22=test_df2.drop(['Loan_ID','Loan_Status'],axis=1)"
   ]
  },
  {
   "cell_type": "code",
   "execution_count": 65,
   "id": "58af4aae",
   "metadata": {},
   "outputs": [],
   "source": [
    "y=train_df22['LoanAmount']\n",
    "x=train_df22.drop(['LoanAmount'],axis=1)\n",
    "z=test_df22.drop(['LoanAmount'],axis=1)"
   ]
  },
  {
   "cell_type": "code",
   "execution_count": 66,
   "id": "1d533282",
   "metadata": {},
   "outputs": [],
   "source": [
    "from sklearn.preprocessing import LabelEncoder\n",
    "lbl = LabelEncoder() "
   ]
  },
  {
   "cell_type": "code",
   "execution_count": 67,
   "id": "cb7ca4ed",
   "metadata": {},
   "outputs": [
    {
     "name": "stdout",
     "output_type": "stream",
     "text": [
      "Shape all_data: (422, 9)\n"
     ]
    }
   ],
   "source": [
    "cols = x.select_dtypes(include='object').columns\n",
    "\n",
    "for c in cols: \n",
    "    x[c]=lbl.fit_transform(list(x[c].values)) \n",
    "\n",
    "print('Shape all_data: {}'.format(x.shape))"
   ]
  },
  {
   "cell_type": "code",
   "execution_count": 68,
   "id": "45f6667d",
   "metadata": {},
   "outputs": [
    {
     "name": "stdout",
     "output_type": "stream",
     "text": [
      "Shape all_data: (59, 9)\n"
     ]
    }
   ],
   "source": [
    "cols = z.select_dtypes(include='object').columns\n",
    "\n",
    "for c in cols: \n",
    "    z[c]=lbl.fit_transform(list(z[c].values)) \n",
    "\n",
    "print('Shape all_data: {}'.format(z.shape))"
   ]
  },
  {
   "cell_type": "code",
   "execution_count": 69,
   "id": "946e097c",
   "metadata": {},
   "outputs": [],
   "source": [
    "from sklearn.model_selection import train_test_split\n",
    "xtrain,xtest,ytrain,ytest = train_test_split(x,y,test_size=0.2,random_state=101)"
   ]
  },
  {
   "cell_type": "markdown",
   "id": "69fa25a8",
   "metadata": {},
   "source": [
    "# KNeighborsRegressor"
   ]
  },
  {
   "cell_type": "code",
   "execution_count": 70,
   "id": "21d175bb",
   "metadata": {},
   "outputs": [],
   "source": [
    "from sklearn.neighbors import KNeighborsRegressor\n",
    "from sklearn.metrics import mean_squared_error"
   ]
  },
  {
   "cell_type": "code",
   "execution_count": 71,
   "id": "d2a9366e",
   "metadata": {},
   "outputs": [
    {
     "data": {
      "text/plain": [
       "KNeighborsRegressor()"
      ]
     },
     "execution_count": 71,
     "metadata": {},
     "output_type": "execute_result"
    }
   ],
   "source": [
    "knr_model=KNeighborsRegressor()\n",
    "knr_model.fit(xtrain,ytrain)"
   ]
  },
  {
   "cell_type": "code",
   "execution_count": 72,
   "id": "a7a113d9",
   "metadata": {},
   "outputs": [
    {
     "data": {
      "text/plain": [
       "3393.296908527744"
      ]
     },
     "execution_count": 72,
     "metadata": {},
     "output_type": "execute_result"
    }
   ],
   "source": [
    "ypred_knr=knr_model.predict(xtrain)\n",
    "\n",
    "MSE=mean_squared_error(ytrain,ypred_knr)\n",
    "MSE"
   ]
  },
  {
   "cell_type": "code",
   "execution_count": 73,
   "id": "28bd7848",
   "metadata": {},
   "outputs": [
    {
     "data": {
      "text/plain": [
       "3951.520640377261"
      ]
     },
     "execution_count": 73,
     "metadata": {},
     "output_type": "execute_result"
    }
   ],
   "source": [
    "ypred_knr=knr_model.predict(xtest)\n",
    "\n",
    "MSE=mean_squared_error(ytest,ypred_knr)\n",
    "MSE"
   ]
  },
  {
   "cell_type": "markdown",
   "id": "461c74de",
   "metadata": {},
   "source": [
    "# DecisionTreeRegressor"
   ]
  },
  {
   "cell_type": "code",
   "execution_count": 74,
   "id": "fb522865",
   "metadata": {},
   "outputs": [],
   "source": [
    "from sklearn.tree import DecisionTreeRegressor"
   ]
  },
  {
   "cell_type": "code",
   "execution_count": 75,
   "id": "3cbf276e",
   "metadata": {},
   "outputs": [
    {
     "data": {
      "text/plain": [
       "DecisionTreeRegressor(random_state=101)"
      ]
     },
     "execution_count": 75,
     "metadata": {},
     "output_type": "execute_result"
    }
   ],
   "source": [
    "D_tree=DecisionTreeRegressor(random_state=101)\n",
    "D_tree.fit(xtrain,ytrain)"
   ]
  },
  {
   "cell_type": "code",
   "execution_count": 76,
   "id": "bb2d73da",
   "metadata": {},
   "outputs": [
    {
     "data": {
      "text/plain": [
       "0.3798219584569733"
      ]
     },
     "execution_count": 76,
     "metadata": {},
     "output_type": "execute_result"
    }
   ],
   "source": [
    "ypred_dt=D_tree.predict(xtrain)\n",
    "\n",
    "MSE=mean_squared_error(ytrain,ypred_dt)\n",
    "MSE"
   ]
  },
  {
   "cell_type": "code",
   "execution_count": 77,
   "id": "dd942597",
   "metadata": {},
   "outputs": [
    {
     "data": {
      "text/plain": [
       "7575.497728591071"
      ]
     },
     "execution_count": 77,
     "metadata": {},
     "output_type": "execute_result"
    }
   ],
   "source": [
    "ypred_dt=D_tree.predict(xtest)\n",
    "\n",
    "MSE=mean_squared_error(ytest,ypred_dt)\n",
    "MSE"
   ]
  },
  {
   "cell_type": "markdown",
   "id": "4a26f6ef",
   "metadata": {},
   "source": [
    "# RandomForestRegressor"
   ]
  },
  {
   "cell_type": "code",
   "execution_count": 78,
   "id": "f2b269df",
   "metadata": {},
   "outputs": [],
   "source": [
    "from sklearn.ensemble import RandomForestRegressor"
   ]
  },
  {
   "cell_type": "code",
   "execution_count": 79,
   "id": "0fa4182c",
   "metadata": {},
   "outputs": [
    {
     "data": {
      "text/plain": [
       "RandomForestRegressor(random_state=101)"
      ]
     },
     "execution_count": 79,
     "metadata": {},
     "output_type": "execute_result"
    }
   ],
   "source": [
    "rfr=RandomForestRegressor(random_state=101)\n",
    "rfr.fit(xtrain,ytrain)"
   ]
  },
  {
   "cell_type": "code",
   "execution_count": 80,
   "id": "39193cce",
   "metadata": {},
   "outputs": [
    {
     "data": {
      "text/plain": [
       "784.2133370886826"
      ]
     },
     "execution_count": 80,
     "metadata": {},
     "output_type": "execute_result"
    }
   ],
   "source": [
    "ypred_rf=rfr.predict(xtrain)\n",
    "\n",
    "MSE=mean_squared_error(ytrain,ypred_rf)\n",
    "MSE"
   ]
  },
  {
   "cell_type": "code",
   "execution_count": 81,
   "id": "0c04146f",
   "metadata": {},
   "outputs": [
    {
     "data": {
      "text/plain": [
       "3840.7372075592"
      ]
     },
     "execution_count": 81,
     "metadata": {},
     "output_type": "execute_result"
    }
   ],
   "source": [
    "ypred_rf=rfr.predict(xtest)\n",
    "\n",
    "MSE=mean_squared_error(ytest,ypred_rf)\n",
    "MSE"
   ]
  },
  {
   "cell_type": "markdown",
   "id": "e8398464",
   "metadata": {},
   "source": [
    "# RandomizedSearchCV using random forest model"
   ]
  },
  {
   "cell_type": "code",
   "execution_count": 82,
   "id": "88affc5f",
   "metadata": {},
   "outputs": [
    {
     "data": {
      "text/plain": [
       "RandomizedSearchCV(cv=6, estimator=RandomForestRegressor(random_state=101),\n",
       "                   param_distributions={'criterion': ['mae', 'mse'],\n",
       "                                        'max_depth': array([ 1,  2,  3,  4,  5,  6,  7,  8,  9, 10, 11, 12, 13, 14, 15, 16, 17,\n",
       "       18, 19]),\n",
       "                                        'max_features': ['sqrt', 'log2'],\n",
       "                                        'min_samples_leaf': array([1, 2, 3, 4, 5, 6, 7, 8, 9]),\n",
       "                                        'min_samples_split': array([2, 3, 4, 5, 6, 7, 8, 9]),\n",
       "                                        'n_estimators': array([ 5, 10, 15, 20, 25, 30, 35, 40, 45, 50, 55, 60, 65, 70, 75, 80, 85,\n",
       "       90, 95])})"
      ]
     },
     "execution_count": 82,
     "metadata": {},
     "output_type": "execute_result"
    }
   ],
   "source": [
    "rf_model = RandomForestRegressor(random_state=101)\n",
    "\n",
    "hyp = {'n_estimators':np.arange(5,100,5),'criterion':['mae','mse'],\n",
    "        'max_depth':np.arange(1,20),'min_samples_split':np.arange(2,10),\n",
    "        'min_samples_leaf':np.arange(1,10),'max_features':['sqrt','log2']}\n",
    "\n",
    "rscv_rf_model = RandomizedSearchCV(rf_model,hyp,cv=6)\n",
    "rscv_rf_model.fit(xtrain,ytrain)"
   ]
  },
  {
   "cell_type": "code",
   "execution_count": 83,
   "id": "3250e446",
   "metadata": {},
   "outputs": [
    {
     "data": {
      "text/plain": [
       "RandomForestRegressor(criterion='mse', max_depth=6, max_features='sqrt',\n",
       "                      min_samples_leaf=9, min_samples_split=9, n_estimators=50,\n",
       "                      random_state=101)"
      ]
     },
     "execution_count": 83,
     "metadata": {},
     "output_type": "execute_result"
    }
   ],
   "source": [
    "rscv_rf_model.best_estimator_"
   ]
  },
  {
   "cell_type": "code",
   "execution_count": 84,
   "id": "de6e8c21",
   "metadata": {},
   "outputs": [
    {
     "data": {
      "text/plain": [
       "RandomForestRegressor(criterion='mse', max_depth=6, max_features='sqrt',\n",
       "                      min_samples_leaf=9, min_samples_split=9, n_estimators=50,\n",
       "                      random_state=101)"
      ]
     },
     "execution_count": 84,
     "metadata": {},
     "output_type": "execute_result"
    }
   ],
   "source": [
    "rf_model = rscv_rf_model.best_estimator_\n",
    "rf_model.fit(xtrain,ytrain)"
   ]
  },
  {
   "cell_type": "code",
   "execution_count": 85,
   "id": "726a9792",
   "metadata": {},
   "outputs": [
    {
     "name": "stdout",
     "output_type": "stream",
     "text": [
      "Mean squared error: 4010.5033419314\n"
     ]
    }
   ],
   "source": [
    "ypredtrain = rf_model.predict(xtrain)\n",
    "\n",
    "MSE = mean_squared_error(ytrain,ypredtrain)\n",
    "print('Mean squared error:',MSE)"
   ]
  },
  {
   "cell_type": "code",
   "execution_count": 86,
   "id": "6a55133a",
   "metadata": {},
   "outputs": [
    {
     "name": "stdout",
     "output_type": "stream",
     "text": [
      "Mean squared error: 4726.937737288817\n"
     ]
    }
   ],
   "source": [
    "ypredtest = rf_model.predict(xtest)\n",
    "\n",
    "MSE = mean_squared_error(ytest,ypredtest)\n",
    "print('Mean squared error:',MSE)"
   ]
  },
  {
   "cell_type": "code",
   "execution_count": 87,
   "id": "a6be8f9f",
   "metadata": {},
   "outputs": [],
   "source": [
    "y_predicted=rf_model.predict(z)"
   ]
  },
  {
   "cell_type": "code",
   "execution_count": 88,
   "id": "7821766d",
   "metadata": {},
   "outputs": [
    {
     "data": {
      "text/html": [
       "<div>\n",
       "<style scoped>\n",
       "    .dataframe tbody tr th:only-of-type {\n",
       "        vertical-align: middle;\n",
       "    }\n",
       "\n",
       "    .dataframe tbody tr th {\n",
       "        vertical-align: top;\n",
       "    }\n",
       "\n",
       "    .dataframe thead th {\n",
       "        text-align: right;\n",
       "    }\n",
       "</style>\n",
       "<table border=\"1\" class=\"dataframe\">\n",
       "  <thead>\n",
       "    <tr style=\"text-align: right;\">\n",
       "      <th></th>\n",
       "      <th>Loan_ID</th>\n",
       "      <th>Loan_Status</th>\n",
       "      <th>LoanAmount</th>\n",
       "      <th>LoanAmount_New</th>\n",
       "    </tr>\n",
       "  </thead>\n",
       "  <tbody>\n",
       "    <tr>\n",
       "      <th>0</th>\n",
       "      <td>LP001056</td>\n",
       "      <td>N</td>\n",
       "      <td>147.0</td>\n",
       "      <td>116.730239</td>\n",
       "    </tr>\n",
       "    <tr>\n",
       "      <th>1</th>\n",
       "      <td>LP001094</td>\n",
       "      <td>N</td>\n",
       "      <td>166.0</td>\n",
       "      <td>228.425832</td>\n",
       "    </tr>\n",
       "    <tr>\n",
       "      <th>2</th>\n",
       "      <td>LP001153</td>\n",
       "      <td>N</td>\n",
       "      <td>148.0</td>\n",
       "      <td>204.419116</td>\n",
       "    </tr>\n",
       "    <tr>\n",
       "      <th>3</th>\n",
       "      <td>LP001203</td>\n",
       "      <td>N</td>\n",
       "      <td>176.0</td>\n",
       "      <td>101.280537</td>\n",
       "    </tr>\n",
       "    <tr>\n",
       "      <th>4</th>\n",
       "      <td>LP001313</td>\n",
       "      <td>N</td>\n",
       "      <td>130.0</td>\n",
       "      <td>96.932475</td>\n",
       "    </tr>\n",
       "  </tbody>\n",
       "</table>\n",
       "</div>"
      ],
      "text/plain": [
       "    Loan_ID Loan_Status  LoanAmount  LoanAmount_New\n",
       "0  LP001056           N       147.0      116.730239\n",
       "1  LP001094           N       166.0      228.425832\n",
       "2  LP001153           N       148.0      204.419116\n",
       "3  LP001203           N       176.0      101.280537\n",
       "4  LP001313           N       130.0       96.932475"
      ]
     },
     "execution_count": 88,
     "metadata": {},
     "output_type": "execute_result"
    }
   ],
   "source": [
    "loan_amount_new = pd.DataFrame(y_predicted,columns=[\"LoanAmount_New\"])\n",
    "final = test_df2.join(loan_amount_new)[[\"Loan_ID\",\"Loan_Status\",\"LoanAmount\",\"LoanAmount_New\"]]\n",
    "final.head(5)"
   ]
  },
  {
   "cell_type": "markdown",
   "id": "9c112bfa",
   "metadata": {},
   "source": [
    "# Conclusion:\n",
    "3.A:In above final result, \n",
    "\n",
    "LoanAmount shows actual loan amount while they applied and got rejected.\n",
    "\n",
    "LoanAmount_New shows revised amount for which there loan may get appproval based on previously loan approved data"
   ]
  },
  {
   "cell_type": "markdown",
   "id": "c45da0cb",
   "metadata": {},
   "source": [
    "# 3b\n",
    "If duration is less than equal to 20 years, is customer eligible for required amount for some longer duration? What is that duration?(Regression)"
   ]
  },
  {
   "cell_type": "code",
   "execution_count": 89,
   "id": "2842dc87",
   "metadata": {},
   "outputs": [],
   "source": [
    "# train_df3 contains data whose loan has been approved(from main training data)\n",
    "\n",
    "train_df3=train[train.Loan_Status=='Y']"
   ]
  },
  {
   "cell_type": "code",
   "execution_count": 90,
   "id": "71b10e44",
   "metadata": {},
   "outputs": [],
   "source": [
    "train_df3['Gender'].fillna(train_df3['Gender'].mode()[0],inplace=True)\n",
    "train_df3['Married'].fillna(train_df3['Married'].mode()[0],inplace=True)\n",
    "train_df3['Dependents'].fillna(train_df3['Dependents'].mode()[0],inplace=True)\n",
    "train_df3['Education'].fillna(train_df3['Education'].mode()[0],inplace=True)\n",
    "train_df3['Self_Employed'].fillna(train_df3['Self_Employed'].mode()[0],inplace=True)"
   ]
  },
  {
   "cell_type": "code",
   "execution_count": 91,
   "id": "0df420c4",
   "metadata": {
    "scrolled": true
   },
   "outputs": [],
   "source": [
    "# test_df3 contains data whose loan has been rejected & loan amount term <= 240\n",
    "#(on testing data for which we have done predictions in problem 1)\n",
    "\n",
    "\n",
    "test_df3 = test.join(loan_status)\n",
    "test_df3 = test_df3[(test_df3.Loan_Status == 'N') & (test_df3.Loan_Amount_Term <= 240)]"
   ]
  },
  {
   "cell_type": "code",
   "execution_count": 92,
   "id": "e7ce4602",
   "metadata": {},
   "outputs": [
    {
     "data": {
      "text/plain": [
       "Index(['Loan_ID', 'Gender', 'Married', 'Dependents', 'Education',\n",
       "       'Self_Employed', 'LoanAmount', 'Loan_Amount_Term', 'Credit_History',\n",
       "       'Property_Area', 'Loan_Status', 'Total_Income'],\n",
       "      dtype='object')"
      ]
     },
     "execution_count": 92,
     "metadata": {},
     "output_type": "execute_result"
    }
   ],
   "source": [
    "train_df3.columns"
   ]
  },
  {
   "cell_type": "code",
   "execution_count": 93,
   "id": "6affe67a",
   "metadata": {},
   "outputs": [
    {
     "data": {
      "text/plain": [
       "Index(['Loan_ID', 'Gender', 'Married', 'Dependents', 'Education',\n",
       "       'Self_Employed', 'LoanAmount', 'Loan_Amount_Term', 'Credit_History',\n",
       "       'Property_Area', 'Total_Income', 'Loan_Status'],\n",
       "      dtype='object')"
      ]
     },
     "execution_count": 93,
     "metadata": {},
     "output_type": "execute_result"
    }
   ],
   "source": [
    "test_df3.columns"
   ]
  },
  {
   "cell_type": "code",
   "execution_count": 94,
   "id": "39840473",
   "metadata": {},
   "outputs": [
    {
     "data": {
      "text/plain": [
       "(422, 12)"
      ]
     },
     "execution_count": 94,
     "metadata": {},
     "output_type": "execute_result"
    }
   ],
   "source": [
    "train_df3.shape"
   ]
  },
  {
   "cell_type": "code",
   "execution_count": 95,
   "id": "bb811e28",
   "metadata": {},
   "outputs": [
    {
     "data": {
      "text/plain": [
       "(5, 12)"
      ]
     },
     "execution_count": 95,
     "metadata": {},
     "output_type": "execute_result"
    }
   ],
   "source": [
    "test_df3.shape"
   ]
  },
  {
   "cell_type": "code",
   "execution_count": 96,
   "id": "83df15bc",
   "metadata": {},
   "outputs": [],
   "source": [
    "#Reindexing\n",
    "\n",
    "train_df3.index = range(0,train_df3.shape[0])\n",
    "test_df3.index = range(0,test_df3.shape[0])"
   ]
  },
  {
   "cell_type": "code",
   "execution_count": 97,
   "id": "17826c1b",
   "metadata": {},
   "outputs": [],
   "source": [
    "#dropping columns\n",
    "\n",
    "train_df33=train_df3.drop(['Loan_ID','Loan_Status'],axis=1)\n",
    "test_df33=test_df3.drop(['Loan_ID','Loan_Amount_Term','Loan_Status'],axis=1)"
   ]
  },
  {
   "cell_type": "code",
   "execution_count": 98,
   "id": "981efd6b",
   "metadata": {},
   "outputs": [],
   "source": [
    "y=train_df33['Loan_Amount_Term']\n",
    "x=train_df33.drop(['Loan_Amount_Term'],axis=1)\n",
    "z=test_df33"
   ]
  },
  {
   "cell_type": "code",
   "execution_count": 99,
   "id": "e31fd173",
   "metadata": {},
   "outputs": [],
   "source": [
    "from sklearn.preprocessing import LabelEncoder\n",
    "lbl = LabelEncoder() "
   ]
  },
  {
   "cell_type": "code",
   "execution_count": 100,
   "id": "bb61cfd2",
   "metadata": {},
   "outputs": [
    {
     "name": "stdout",
     "output_type": "stream",
     "text": [
      "Shape all_data: (422, 9)\n"
     ]
    }
   ],
   "source": [
    "cols = x.select_dtypes(include='object').columns\n",
    "\n",
    "for c in cols: \n",
    "    x[c]=lbl.fit_transform(list(x[c].values)) \n",
    "\n",
    "print('Shape all_data: {}'.format(x.shape))"
   ]
  },
  {
   "cell_type": "code",
   "execution_count": 101,
   "id": "f9392087",
   "metadata": {},
   "outputs": [
    {
     "name": "stdout",
     "output_type": "stream",
     "text": [
      "Shape all_data: (5, 9)\n"
     ]
    }
   ],
   "source": [
    "cols = z.select_dtypes(include='object').columns\n",
    "\n",
    "for c in cols: \n",
    "    z[c]=lbl.fit_transform(list(z[c].values)) \n",
    "\n",
    "print('Shape all_data: {}'.format(z.shape))"
   ]
  },
  {
   "cell_type": "code",
   "execution_count": 102,
   "id": "3be40ed8",
   "metadata": {},
   "outputs": [],
   "source": [
    "xtrain,xtest,ytrain,ytest=train_test_split(x,y,test_size=0.2,random_state=101)"
   ]
  },
  {
   "cell_type": "markdown",
   "id": "876897ce",
   "metadata": {},
   "source": [
    "# KNeighborsRegressor"
   ]
  },
  {
   "cell_type": "code",
   "execution_count": 103,
   "id": "e3e72723",
   "metadata": {},
   "outputs": [],
   "source": [
    "from sklearn.neighbors import KNeighborsRegressor\n",
    "from sklearn.metrics import mean_squared_error"
   ]
  },
  {
   "cell_type": "code",
   "execution_count": 104,
   "id": "f19379bd",
   "metadata": {},
   "outputs": [
    {
     "data": {
      "text/plain": [
       "KNeighborsRegressor()"
      ]
     },
     "execution_count": 104,
     "metadata": {},
     "output_type": "execute_result"
    }
   ],
   "source": [
    "knr_model=KNeighborsRegressor()\n",
    "knr_model.fit(xtrain,ytrain)"
   ]
  },
  {
   "cell_type": "code",
   "execution_count": 105,
   "id": "2073a017",
   "metadata": {},
   "outputs": [
    {
     "data": {
      "text/plain": [
       "2991.849970326409"
      ]
     },
     "execution_count": 105,
     "metadata": {},
     "output_type": "execute_result"
    }
   ],
   "source": [
    "ypred_knr=knr_model.predict(xtrain)\n",
    "\n",
    "MSE=mean_squared_error(ytrain,ypred_knr)\n",
    "MSE"
   ]
  },
  {
   "cell_type": "code",
   "execution_count": 106,
   "id": "4f65d211",
   "metadata": {},
   "outputs": [
    {
     "data": {
      "text/plain": [
       "4558.19294117647"
      ]
     },
     "execution_count": 106,
     "metadata": {},
     "output_type": "execute_result"
    }
   ],
   "source": [
    "ypred_knr=knr_model.predict(xtest)\n",
    "\n",
    "MSE=mean_squared_error(ytest,ypred_knr)\n",
    "MSE"
   ]
  },
  {
   "cell_type": "markdown",
   "id": "64127142",
   "metadata": {},
   "source": [
    "# DecisionTreeRegressor"
   ]
  },
  {
   "cell_type": "code",
   "execution_count": 107,
   "id": "5a203313",
   "metadata": {},
   "outputs": [],
   "source": [
    "from sklearn.tree import DecisionTreeRegressor"
   ]
  },
  {
   "cell_type": "code",
   "execution_count": 108,
   "id": "b071fe76",
   "metadata": {},
   "outputs": [
    {
     "data": {
      "text/plain": [
       "DecisionTreeRegressor(random_state=101)"
      ]
     },
     "execution_count": 108,
     "metadata": {},
     "output_type": "execute_result"
    }
   ],
   "source": [
    "D_tree=DecisionTreeRegressor(random_state=101)\n",
    "D_tree.fit(xtrain,ytrain)"
   ]
  },
  {
   "cell_type": "code",
   "execution_count": 109,
   "id": "743a10eb",
   "metadata": {},
   "outputs": [
    {
     "data": {
      "text/plain": [
       "0.0"
      ]
     },
     "execution_count": 109,
     "metadata": {},
     "output_type": "execute_result"
    }
   ],
   "source": [
    "ypred_dt=D_tree.predict(xtrain)\n",
    "\n",
    "MSE=mean_squared_error(ytrain,ypred_dt)\n",
    "MSE"
   ]
  },
  {
   "cell_type": "code",
   "execution_count": 110,
   "id": "79d6cd4f",
   "metadata": {},
   "outputs": [
    {
     "data": {
      "text/plain": [
       "7264.376470588235"
      ]
     },
     "execution_count": 110,
     "metadata": {},
     "output_type": "execute_result"
    }
   ],
   "source": [
    "ypred_dt=D_tree.predict(xtest)\n",
    "\n",
    "MSE=mean_squared_error(ytest,ypred_dt)\n",
    "MSE"
   ]
  },
  {
   "cell_type": "markdown",
   "id": "81a2297d",
   "metadata": {},
   "source": [
    "# RandomForestRegressor"
   ]
  },
  {
   "cell_type": "code",
   "execution_count": 111,
   "id": "78bfe404",
   "metadata": {},
   "outputs": [],
   "source": [
    "from sklearn.ensemble import RandomForestRegressor"
   ]
  },
  {
   "cell_type": "code",
   "execution_count": 112,
   "id": "ab9afbd0",
   "metadata": {},
   "outputs": [
    {
     "data": {
      "text/plain": [
       "RandomForestRegressor(random_state=101)"
      ]
     },
     "execution_count": 112,
     "metadata": {},
     "output_type": "execute_result"
    }
   ],
   "source": [
    "rfr=RandomForestRegressor(random_state=101)\n",
    "rfr.fit(xtrain,ytrain)"
   ]
  },
  {
   "cell_type": "code",
   "execution_count": 113,
   "id": "e3ad05d6",
   "metadata": {},
   "outputs": [
    {
     "data": {
      "text/plain": [
       "608.155456379822"
      ]
     },
     "execution_count": 113,
     "metadata": {},
     "output_type": "execute_result"
    }
   ],
   "source": [
    "ypred_rf=rfr.predict(xtrain)\n",
    "\n",
    "MSE=mean_squared_error(ytrain,ypred_rf)\n",
    "MSE"
   ]
  },
  {
   "cell_type": "code",
   "execution_count": 114,
   "id": "f39b6a61",
   "metadata": {},
   "outputs": [
    {
     "data": {
      "text/plain": [
       "3127.7159576470585"
      ]
     },
     "execution_count": 114,
     "metadata": {},
     "output_type": "execute_result"
    }
   ],
   "source": [
    "ypred_rf=rfr.predict(xtest)\n",
    "\n",
    "MSE=mean_squared_error(ytest,ypred_rf)\n",
    "MSE"
   ]
  },
  {
   "cell_type": "markdown",
   "id": "509c531e",
   "metadata": {},
   "source": [
    "# RandomizedSearchCV on RandomForestRegressor"
   ]
  },
  {
   "cell_type": "code",
   "execution_count": 115,
   "id": "5ae42026",
   "metadata": {},
   "outputs": [
    {
     "data": {
      "text/plain": [
       "RandomizedSearchCV(cv=6, estimator=RandomForestRegressor(random_state=101),\n",
       "                   param_distributions={'criterion': ['mae', 'mse'],\n",
       "                                        'max_depth': array([ 1,  2,  3,  4,  5,  6,  7,  8,  9, 10, 11, 12, 13, 14, 15, 16, 17,\n",
       "       18, 19]),\n",
       "                                        'max_features': ['sqrt', 'log2'],\n",
       "                                        'min_samples_leaf': array([1, 2, 3, 4, 5, 6, 7, 8, 9]),\n",
       "                                        'min_samples_split': array([2, 3, 4, 5, 6, 7, 8, 9]),\n",
       "                                        'n_estimators': array([ 5, 10, 15, 20, 25, 30, 35, 40, 45, 50, 55, 60, 65, 70, 75, 80, 85,\n",
       "       90, 95])})"
      ]
     },
     "execution_count": 115,
     "metadata": {},
     "output_type": "execute_result"
    }
   ],
   "source": [
    "rf_model = RandomForestRegressor(random_state=101)\n",
    "\n",
    "hyp = {'n_estimators':np.arange(5,100,5),'criterion':['mae','mse'],\n",
    "        'max_depth':np.arange(1,20),'min_samples_split':np.arange(2,10),\n",
    "        'min_samples_leaf':np.arange(1,10),'max_features':['sqrt','log2']}\n",
    "\n",
    "rscv_rf_model = RandomizedSearchCV(rf_model,hyp,cv=6)\n",
    "rscv_rf_model.fit(xtrain,ytrain)"
   ]
  },
  {
   "cell_type": "code",
   "execution_count": 116,
   "id": "514f21b6",
   "metadata": {},
   "outputs": [
    {
     "data": {
      "text/plain": [
       "RandomForestRegressor(criterion='mae', max_depth=8, max_features='log2',\n",
       "                      min_samples_leaf=2, min_samples_split=5, n_estimators=95,\n",
       "                      random_state=101)"
      ]
     },
     "execution_count": 116,
     "metadata": {},
     "output_type": "execute_result"
    }
   ],
   "source": [
    "rscv_rf_model.best_estimator_"
   ]
  },
  {
   "cell_type": "code",
   "execution_count": 117,
   "id": "3d19b163",
   "metadata": {},
   "outputs": [
    {
     "data": {
      "text/plain": [
       "RandomForestRegressor(criterion='mae', max_depth=8, max_features='log2',\n",
       "                      min_samples_leaf=2, min_samples_split=5, n_estimators=95,\n",
       "                      random_state=101)"
      ]
     },
     "execution_count": 117,
     "metadata": {},
     "output_type": "execute_result"
    }
   ],
   "source": [
    "rf_model = rscv_rf_model.best_estimator_\n",
    "rf_model.fit(xtrain,ytrain)"
   ]
  },
  {
   "cell_type": "code",
   "execution_count": 118,
   "id": "f2611a02",
   "metadata": {},
   "outputs": [
    {
     "name": "stdout",
     "output_type": "stream",
     "text": [
      "Mean squared error: 3712.7893194801777\n"
     ]
    }
   ],
   "source": [
    "ypredtrain = rf_model.predict(xtrain)\n",
    "\n",
    "MSE = mean_squared_error(ytrain,ypredtrain)\n",
    "print('Mean squared error:',MSE)"
   ]
  },
  {
   "cell_type": "code",
   "execution_count": 119,
   "id": "5bb70bb0",
   "metadata": {},
   "outputs": [
    {
     "name": "stdout",
     "output_type": "stream",
     "text": [
      "Mean squared error: 3979.689741567542\n"
     ]
    }
   ],
   "source": [
    "ypredtest = rf_model.predict(xtest)\n",
    "\n",
    "MSE = mean_squared_error(ytest,ypredtest)\n",
    "print('Mean squared error:',MSE)"
   ]
  },
  {
   "cell_type": "code",
   "execution_count": 120,
   "id": "32d6ed2b",
   "metadata": {},
   "outputs": [],
   "source": [
    "y_predicted=rf_model.predict(z)"
   ]
  },
  {
   "cell_type": "code",
   "execution_count": 121,
   "id": "b297bf5c",
   "metadata": {},
   "outputs": [
    {
     "data": {
      "text/html": [
       "<div>\n",
       "<style scoped>\n",
       "    .dataframe tbody tr th:only-of-type {\n",
       "        vertical-align: middle;\n",
       "    }\n",
       "\n",
       "    .dataframe tbody tr th {\n",
       "        vertical-align: top;\n",
       "    }\n",
       "\n",
       "    .dataframe thead th {\n",
       "        text-align: right;\n",
       "    }\n",
       "</style>\n",
       "<table border=\"1\" class=\"dataframe\">\n",
       "  <thead>\n",
       "    <tr style=\"text-align: right;\">\n",
       "      <th></th>\n",
       "      <th>Loan_ID</th>\n",
       "      <th>Loan_Status</th>\n",
       "      <th>Loan_Amount_Term</th>\n",
       "      <th>LoanAmount_Term_New</th>\n",
       "    </tr>\n",
       "  </thead>\n",
       "  <tbody>\n",
       "    <tr>\n",
       "      <th>0</th>\n",
       "      <td>LP001450</td>\n",
       "      <td>N</td>\n",
       "      <td>180.0</td>\n",
       "      <td>345.789474</td>\n",
       "    </tr>\n",
       "    <tr>\n",
       "      <th>1</th>\n",
       "      <td>LP001979</td>\n",
       "      <td>N</td>\n",
       "      <td>180.0</td>\n",
       "      <td>352.421053</td>\n",
       "    </tr>\n",
       "    <tr>\n",
       "      <th>2</th>\n",
       "      <td>LP002355</td>\n",
       "      <td>N</td>\n",
       "      <td>180.0</td>\n",
       "      <td>347.684211</td>\n",
       "    </tr>\n",
       "    <tr>\n",
       "      <th>3</th>\n",
       "      <td>LP002802</td>\n",
       "      <td>N</td>\n",
       "      <td>6.0</td>\n",
       "      <td>351.789474</td>\n",
       "    </tr>\n",
       "    <tr>\n",
       "      <th>4</th>\n",
       "      <td>LP002921</td>\n",
       "      <td>N</td>\n",
       "      <td>180.0</td>\n",
       "      <td>349.578947</td>\n",
       "    </tr>\n",
       "  </tbody>\n",
       "</table>\n",
       "</div>"
      ],
      "text/plain": [
       "    Loan_ID Loan_Status  Loan_Amount_Term  LoanAmount_Term_New\n",
       "0  LP001450           N             180.0           345.789474\n",
       "1  LP001979           N             180.0           352.421053\n",
       "2  LP002355           N             180.0           347.684211\n",
       "3  LP002802           N               6.0           351.789474\n",
       "4  LP002921           N             180.0           349.578947"
      ]
     },
     "execution_count": 121,
     "metadata": {},
     "output_type": "execute_result"
    }
   ],
   "source": [
    "loan_amount_Term_new = pd.DataFrame(y_predicted,columns=[\"LoanAmount_Term_New\"])\n",
    "final2 = test_df3.join(loan_amount_Term_new)[[\"Loan_ID\",\"Loan_Status\",\"Loan_Amount_Term\",\"LoanAmount_Term_New\"]]\n",
    "final2.head(5)"
   ]
  },
  {
   "cell_type": "markdown",
   "id": "4cf20b55",
   "metadata": {},
   "source": [
    "# Conclusion\n",
    "\n",
    "1. In above final result, Loan_Amount_Term shows actual loan amount term while they applied and got rejected.\n",
    "2. Loan_Amount_Term_New shows revised duration for which there loan may get approval based on previously loan approved data"
   ]
  },
  {
   "cell_type": "code",
   "execution_count": null,
   "id": "4d5c7f6f",
   "metadata": {},
   "outputs": [],
   "source": []
  }
 ],
 "metadata": {
  "kernelspec": {
   "display_name": "Python 3 (ipykernel)",
   "language": "python",
   "name": "python3"
  },
  "language_info": {
   "codemirror_mode": {
    "name": "ipython",
    "version": 3
   },
   "file_extension": ".py",
   "mimetype": "text/x-python",
   "name": "python",
   "nbconvert_exporter": "python",
   "pygments_lexer": "ipython3",
   "version": "3.9.12"
  }
 },
 "nbformat": 4,
 "nbformat_minor": 5
}
